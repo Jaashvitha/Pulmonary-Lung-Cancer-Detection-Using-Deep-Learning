{
  "cells": [
    {
      "cell_type": "code",
      "execution_count": null,
      "metadata": {
        "id": "bOO7ACKiR1-W",
        "colab": {
          "base_uri": "https://localhost:8080/"
        },
        "outputId": "2d02ae27-cfac-450e-ba3b-a7c72c6b5c8a"
      },
      "outputs": [
        {
          "output_type": "stream",
          "name": "stdout",
          "text": [
            "Requirement already satisfied: opencv-python in /usr/local/lib/python3.10/dist-packages (4.10.0.84)\n",
            "Requirement already satisfied: numpy>=1.21.2 in /usr/local/lib/python3.10/dist-packages (from opencv-python) (1.26.4)\n",
            "\u001b[31mERROR: Could not find a version that satisfies the requirement tensorflow==2.6.0 (from versions: 2.8.0rc0, 2.8.0rc1, 2.8.0, 2.8.1, 2.8.2, 2.8.3, 2.8.4, 2.9.0rc0, 2.9.0rc1, 2.9.0rc2, 2.9.0, 2.9.1, 2.9.2, 2.9.3, 2.10.0rc0, 2.10.0rc1, 2.10.0rc2, 2.10.0rc3, 2.10.0, 2.10.1, 2.11.0rc0, 2.11.0rc1, 2.11.0rc2, 2.11.0, 2.11.1, 2.12.0rc0, 2.12.0rc1, 2.12.0, 2.12.1, 2.13.0rc0, 2.13.0rc1, 2.13.0rc2, 2.13.0, 2.13.1, 2.14.0rc0, 2.14.0rc1, 2.14.0, 2.14.1, 2.15.0rc0, 2.15.0rc1, 2.15.0, 2.15.0.post1, 2.15.1, 2.16.0rc0, 2.16.1, 2.16.2, 2.17.0rc0, 2.17.0rc1, 2.17.0, 2.18.0rc0)\u001b[0m\u001b[31m\n",
            "\u001b[0m\u001b[31mERROR: No matching distribution found for tensorflow==2.6.0\u001b[0m\u001b[31m\n",
            "\u001b[0mRequirement already satisfied: tensorflow in /usr/local/lib/python3.10/dist-packages (2.17.0)\n",
            "Requirement already satisfied: absl-py>=1.0.0 in /usr/local/lib/python3.10/dist-packages (from tensorflow) (1.4.0)\n",
            "Requirement already satisfied: astunparse>=1.6.0 in /usr/local/lib/python3.10/dist-packages (from tensorflow) (1.6.3)\n",
            "Requirement already satisfied: flatbuffers>=24.3.25 in /usr/local/lib/python3.10/dist-packages (from tensorflow) (24.3.25)\n",
            "Requirement already satisfied: gast!=0.5.0,!=0.5.1,!=0.5.2,>=0.2.1 in /usr/local/lib/python3.10/dist-packages (from tensorflow) (0.6.0)\n",
            "Requirement already satisfied: google-pasta>=0.1.1 in /usr/local/lib/python3.10/dist-packages (from tensorflow) (0.2.0)\n",
            "Requirement already satisfied: h5py>=3.10.0 in /usr/local/lib/python3.10/dist-packages (from tensorflow) (3.11.0)\n",
            "Requirement already satisfied: libclang>=13.0.0 in /usr/local/lib/python3.10/dist-packages (from tensorflow) (18.1.1)\n",
            "Requirement already satisfied: ml-dtypes<0.5.0,>=0.3.1 in /usr/local/lib/python3.10/dist-packages (from tensorflow) (0.4.1)\n",
            "Requirement already satisfied: opt-einsum>=2.3.2 in /usr/local/lib/python3.10/dist-packages (from tensorflow) (3.4.0)\n",
            "Requirement already satisfied: packaging in /usr/local/lib/python3.10/dist-packages (from tensorflow) (24.1)\n",
            "Requirement already satisfied: protobuf!=4.21.0,!=4.21.1,!=4.21.2,!=4.21.3,!=4.21.4,!=4.21.5,<5.0.0dev,>=3.20.3 in /usr/local/lib/python3.10/dist-packages (from tensorflow) (3.20.3)\n",
            "Requirement already satisfied: requests<3,>=2.21.0 in /usr/local/lib/python3.10/dist-packages (from tensorflow) (2.32.3)\n",
            "Requirement already satisfied: setuptools in /usr/local/lib/python3.10/dist-packages (from tensorflow) (71.0.4)\n",
            "Requirement already satisfied: six>=1.12.0 in /usr/local/lib/python3.10/dist-packages (from tensorflow) (1.16.0)\n",
            "Requirement already satisfied: termcolor>=1.1.0 in /usr/local/lib/python3.10/dist-packages (from tensorflow) (2.4.0)\n",
            "Requirement already satisfied: typing-extensions>=3.6.6 in /usr/local/lib/python3.10/dist-packages (from tensorflow) (4.12.2)\n",
            "Requirement already satisfied: wrapt>=1.11.0 in /usr/local/lib/python3.10/dist-packages (from tensorflow) (1.16.0)\n",
            "Requirement already satisfied: grpcio<2.0,>=1.24.3 in /usr/local/lib/python3.10/dist-packages (from tensorflow) (1.64.1)\n",
            "Requirement already satisfied: tensorboard<2.18,>=2.17 in /usr/local/lib/python3.10/dist-packages (from tensorflow) (2.17.0)\n",
            "Requirement already satisfied: keras>=3.2.0 in /usr/local/lib/python3.10/dist-packages (from tensorflow) (3.4.1)\n",
            "Requirement already satisfied: tensorflow-io-gcs-filesystem>=0.23.1 in /usr/local/lib/python3.10/dist-packages (from tensorflow) (0.37.1)\n",
            "Requirement already satisfied: numpy<2.0.0,>=1.23.5 in /usr/local/lib/python3.10/dist-packages (from tensorflow) (1.26.4)\n",
            "Requirement already satisfied: wheel<1.0,>=0.23.0 in /usr/local/lib/python3.10/dist-packages (from astunparse>=1.6.0->tensorflow) (0.44.0)\n",
            "Requirement already satisfied: rich in /usr/local/lib/python3.10/dist-packages (from keras>=3.2.0->tensorflow) (13.8.1)\n",
            "Requirement already satisfied: namex in /usr/local/lib/python3.10/dist-packages (from keras>=3.2.0->tensorflow) (0.0.8)\n",
            "Requirement already satisfied: optree in /usr/local/lib/python3.10/dist-packages (from keras>=3.2.0->tensorflow) (0.12.1)\n",
            "Requirement already satisfied: charset-normalizer<4,>=2 in /usr/local/lib/python3.10/dist-packages (from requests<3,>=2.21.0->tensorflow) (3.3.2)\n",
            "Requirement already satisfied: idna<4,>=2.5 in /usr/local/lib/python3.10/dist-packages (from requests<3,>=2.21.0->tensorflow) (3.10)\n",
            "Requirement already satisfied: urllib3<3,>=1.21.1 in /usr/local/lib/python3.10/dist-packages (from requests<3,>=2.21.0->tensorflow) (2.2.3)\n",
            "Requirement already satisfied: certifi>=2017.4.17 in /usr/local/lib/python3.10/dist-packages (from requests<3,>=2.21.0->tensorflow) (2024.8.30)\n",
            "Requirement already satisfied: markdown>=2.6.8 in /usr/local/lib/python3.10/dist-packages (from tensorboard<2.18,>=2.17->tensorflow) (3.7)\n",
            "Requirement already satisfied: tensorboard-data-server<0.8.0,>=0.7.0 in /usr/local/lib/python3.10/dist-packages (from tensorboard<2.18,>=2.17->tensorflow) (0.7.2)\n",
            "Requirement already satisfied: werkzeug>=1.0.1 in /usr/local/lib/python3.10/dist-packages (from tensorboard<2.18,>=2.17->tensorflow) (3.0.4)\n",
            "Requirement already satisfied: MarkupSafe>=2.1.1 in /usr/local/lib/python3.10/dist-packages (from werkzeug>=1.0.1->tensorboard<2.18,>=2.17->tensorflow) (2.1.5)\n",
            "Requirement already satisfied: markdown-it-py>=2.2.0 in /usr/local/lib/python3.10/dist-packages (from rich->keras>=3.2.0->tensorflow) (3.0.0)\n",
            "Requirement already satisfied: pygments<3.0.0,>=2.13.0 in /usr/local/lib/python3.10/dist-packages (from rich->keras>=3.2.0->tensorflow) (2.18.0)\n",
            "Requirement already satisfied: mdurl~=0.1 in /usr/local/lib/python3.10/dist-packages (from markdown-it-py>=2.2.0->rich->keras>=3.2.0->tensorflow) (0.1.2)\n",
            "Requirement already satisfied: pip in /root/.local/lib/python3.10/site-packages (24.2)\n"
          ]
        }
      ],
      "source": [
        "!pip install opencv-python\n",
        "!pip install tensorflow==2.6.0\n",
        "!pip install tensorflow --upgrade --user\n",
        "!pip install pip --upgrade --user"
      ]
    },
    {
      "cell_type": "code",
      "source": [
        "!git clone https://github.com/Jaashvitha/Pulmonary-Lung-Cancer-Detection-Using-Deep-Learning.git"
      ],
      "metadata": {
        "colab": {
          "base_uri": "https://localhost:8080/"
        },
        "id": "hu3_I9PArrNo",
        "outputId": "ab8d732a-a7b0-4b81-e91b-de588e7f0517"
      },
      "execution_count": 42,
      "outputs": [
        {
          "output_type": "stream",
          "name": "stdout",
          "text": [
            "fatal: destination path 'Pulmonary-Lung-Cancer-Detection-Using-Deep-Learning' already exists and is not an empty directory.\n"
          ]
        }
      ]
    },
    {
      "cell_type": "code",
      "source": [],
      "metadata": {
        "id": "3ik8AKTQrpw_"
      },
      "execution_count": null,
      "outputs": []
    },
    {
      "cell_type": "code",
      "execution_count": null,
      "metadata": {
        "id": "SejSo2c475F2"
      },
      "outputs": [],
      "source": [
        "#importing libraries\n",
        "import tensorflow as tf\n",
        "from tensorflow import keras\n",
        "from tensorflow.keras import layers,models\n",
        "import matplotlib.pyplot as plt\n",
        "import cv2\n",
        "import os  #to establish interaction btw the user and the os\n",
        "import PIL #python imaging library\n",
        "import numpy as np\n",
        "import pathlib\n",
        "import glob #used to return all file paths that match a specific pattern"
      ]
    },
    {
      "cell_type": "code",
      "execution_count": null,
      "metadata": {
        "id": "cRU0uBofZsIa",
        "colab": {
          "base_uri": "https://localhost:8080/"
        },
        "outputId": "116a445e-c574-4235-d8a5-8b4880f5f8bb"
      },
      "outputs": [
        {
          "output_type": "stream",
          "name": "stdout",
          "text": [
            "Drive already mounted at /content/drive; to attempt to forcibly remount, call drive.mount(\"/content/drive\", force_remount=True).\n"
          ]
        }
      ],
      "source": [
        "from google.colab import drive\n",
        "drive.mount('/content/drive')"
      ]
    },
    {
      "cell_type": "code",
      "execution_count": null,
      "metadata": {
        "id": "OMDrDCe_cI0D"
      },
      "outputs": [],
      "source": [
        "#assigning directory\n",
        "directory=pathlib.Path(\"/content/drive/My Drive/Data/train\")"
      ]
    },
    {
      "cell_type": "code",
      "execution_count": null,
      "metadata": {
        "id": "E7Xar4dSX-rO"
      },
      "outputs": [],
      "source": [
        "# Just needed in case you'd like to append it to an array\n",
        "data = []\n",
        "\n",
        "for filename in os.listdir(\".\"):\n",
        "    if filename.endswith(\"png\"):\n",
        "        # Your code comes here such as\n",
        "        print(filename)\n",
        "        data.append(filename)"
      ]
    },
    {
      "cell_type": "code",
      "source": [
        "data"
      ],
      "metadata": {
        "colab": {
          "base_uri": "https://localhost:8080/"
        },
        "id": "zJT-fTtvHrXS",
        "outputId": "19936adc-a631-4111-9d55-4769c4a6b555"
      },
      "execution_count": null,
      "outputs": [
        {
          "output_type": "execute_result",
          "data": {
            "text/plain": [
              "[]"
            ]
          },
          "metadata": {},
          "execution_count": 7
        }
      ]
    },
    {
      "cell_type": "code",
      "execution_count": null,
      "metadata": {
        "id": "RMuPDJl775F4",
        "colab": {
          "base_uri": "https://localhost:8080/"
        },
        "outputId": "a98dd6e9-9bc7-4219-bb90-ca20f75f1adb"
      },
      "outputs": [
        {
          "output_type": "execute_result",
          "data": {
            "text/plain": [
              "609"
            ]
          },
          "metadata": {},
          "execution_count": 8
        }
      ],
      "source": [
        "#count of images in the directory given\n",
        "image_count=len(list(directory.glob('*/*.png')))\n",
        "#print(list(directory.glob('/*.jpg')))\n",
        "image_count"
      ]
    },
    {
      "cell_type": "code",
      "execution_count": null,
      "metadata": {
        "id": "3T-9YLUf75F4"
      },
      "outputs": [],
      "source": [
        "#creating dictionary of lung images\n",
        "lung_images_dict={\n",
        "    \"adenocarcinoma\":list(directory.glob('adenocarcinoma/*.png')),\n",
        "    \"large_cell_carcinoma\":list(directory.glob('large_cell_carcinoma/*.png')),\n",
        "    \"normal\":list(directory.glob('normal/*.png')),\n",
        "    \"squamous_cell_carcinoma\":list(directory.glob('squamous_cell_carcinoma/*.png'))\n",
        "\n",
        "\n",
        "}"
      ]
    },
    {
      "cell_type": "code",
      "execution_count": null,
      "metadata": {
        "id": "8hIYz1Qk75F5",
        "colab": {
          "base_uri": "https://localhost:8080/"
        },
        "outputId": "f7bbb9a3-8ae9-46df-d907-2ceba89ca74e"
      },
      "outputs": [
        {
          "output_type": "execute_result",
          "data": {
            "text/plain": [
              "{'adenocarcinoma': [PosixPath('/content/drive/My Drive/Data/train/adenocarcinoma/000000 (6).png'),\n",
              "  PosixPath('/content/drive/My Drive/Data/train/adenocarcinoma/000005 (3).png'),\n",
              "  PosixPath('/content/drive/My Drive/Data/train/adenocarcinoma/000005 (9).png'),\n",
              "  PosixPath('/content/drive/My Drive/Data/train/adenocarcinoma/000009 (3).png'),\n",
              "  PosixPath('/content/drive/My Drive/Data/train/adenocarcinoma/000009 (7).png'),\n",
              "  PosixPath('/content/drive/My Drive/Data/train/adenocarcinoma/000008 (10).png'),\n",
              "  PosixPath('/content/drive/My Drive/Data/train/adenocarcinoma/000014 (7).png'),\n",
              "  PosixPath('/content/drive/My Drive/Data/train/adenocarcinoma/000013 (4).png'),\n",
              "  PosixPath('/content/drive/My Drive/Data/train/adenocarcinoma/000013 (8).png'),\n",
              "  PosixPath('/content/drive/My Drive/Data/train/adenocarcinoma/000015 (10).png'),\n",
              "  PosixPath('/content/drive/My Drive/Data/train/adenocarcinoma/000015 (4).png'),\n",
              "  PosixPath('/content/drive/My Drive/Data/train/adenocarcinoma/000015 (9).png'),\n",
              "  PosixPath('/content/drive/My Drive/Data/train/adenocarcinoma/000016 (9).png'),\n",
              "  PosixPath('/content/drive/My Drive/Data/train/adenocarcinoma/000017 (8).png'),\n",
              "  PosixPath('/content/drive/My Drive/Data/train/adenocarcinoma/000017 (6).png'),\n",
              "  PosixPath('/content/drive/My Drive/Data/train/adenocarcinoma/000018 (5).png'),\n",
              "  PosixPath('/content/drive/My Drive/Data/train/adenocarcinoma/000019 (5).png'),\n",
              "  PosixPath('/content/drive/My Drive/Data/train/adenocarcinoma/000020 (10).png'),\n",
              "  PosixPath('/content/drive/My Drive/Data/train/adenocarcinoma/000021 (3).png'),\n",
              "  PosixPath('/content/drive/My Drive/Data/train/adenocarcinoma/000020 (6).png'),\n",
              "  PosixPath('/content/drive/My Drive/Data/train/adenocarcinoma/000020 (5).png'),\n",
              "  PosixPath('/content/drive/My Drive/Data/train/adenocarcinoma/000021 (4).png'),\n",
              "  PosixPath('/content/drive/My Drive/Data/train/adenocarcinoma/000021 (5).png'),\n",
              "  PosixPath('/content/drive/My Drive/Data/train/adenocarcinoma/000021 (8).png'),\n",
              "  PosixPath('/content/drive/My Drive/Data/train/adenocarcinoma/000021 (6).png'),\n",
              "  PosixPath('/content/drive/My Drive/Data/train/adenocarcinoma/000022 (10).png'),\n",
              "  PosixPath('/content/drive/My Drive/Data/train/adenocarcinoma/000022 (2).png'),\n",
              "  PosixPath('/content/drive/My Drive/Data/train/adenocarcinoma/000022 (8).png'),\n",
              "  PosixPath('/content/drive/My Drive/Data/train/adenocarcinoma/000022 (9).png'),\n",
              "  PosixPath('/content/drive/My Drive/Data/train/adenocarcinoma/000023 (10).png'),\n",
              "  PosixPath('/content/drive/My Drive/Data/train/adenocarcinoma/000022.png'),\n",
              "  PosixPath('/content/drive/My Drive/Data/train/adenocarcinoma/000023 (7).png'),\n",
              "  PosixPath('/content/drive/My Drive/Data/train/adenocarcinoma/000023 (5).png'),\n",
              "  PosixPath('/content/drive/My Drive/Data/train/adenocarcinoma/000024 (10).png'),\n",
              "  PosixPath('/content/drive/My Drive/Data/train/adenocarcinoma/000023 (9).png'),\n",
              "  PosixPath('/content/drive/My Drive/Data/train/adenocarcinoma/000024 (7).png'),\n",
              "  PosixPath('/content/drive/My Drive/Data/train/adenocarcinoma/000024.png'),\n",
              "  PosixPath('/content/drive/My Drive/Data/train/adenocarcinoma/000024 (6).png'),\n",
              "  PosixPath('/content/drive/My Drive/Data/train/adenocarcinoma/000026 (10).png'),\n",
              "  PosixPath('/content/drive/My Drive/Data/train/adenocarcinoma/000025 (6).png'),\n",
              "  PosixPath('/content/drive/My Drive/Data/train/adenocarcinoma/000026 (3).png'),\n",
              "  PosixPath('/content/drive/My Drive/Data/train/adenocarcinoma/000027 (6).png'),\n",
              "  PosixPath('/content/drive/My Drive/Data/train/adenocarcinoma/000027 (4).png'),\n",
              "  PosixPath('/content/drive/My Drive/Data/train/adenocarcinoma/000029 (4).png'),\n",
              "  PosixPath('/content/drive/My Drive/Data/train/adenocarcinoma/000029 (5).png'),\n",
              "  PosixPath('/content/drive/My Drive/Data/train/adenocarcinoma/000029 (9).png'),\n",
              "  PosixPath('/content/drive/My Drive/Data/train/adenocarcinoma/000030 (4).png'),\n",
              "  PosixPath('/content/drive/My Drive/Data/train/adenocarcinoma/000031 (3).png'),\n",
              "  PosixPath('/content/drive/My Drive/Data/train/adenocarcinoma/000034 (6).png'),\n",
              "  PosixPath('/content/drive/My Drive/Data/train/adenocarcinoma/000032 (8).png'),\n",
              "  PosixPath('/content/drive/My Drive/Data/train/adenocarcinoma/000033 (9).png'),\n",
              "  PosixPath('/content/drive/My Drive/Data/train/adenocarcinoma/000035 (4).png'),\n",
              "  PosixPath('/content/drive/My Drive/Data/train/adenocarcinoma/000035 (6).png'),\n",
              "  PosixPath('/content/drive/My Drive/Data/train/adenocarcinoma/000035 (5).png'),\n",
              "  PosixPath('/content/drive/My Drive/Data/train/adenocarcinoma/000035 (8).png'),\n",
              "  PosixPath('/content/drive/My Drive/Data/train/adenocarcinoma/000036 (7).png'),\n",
              "  PosixPath('/content/drive/My Drive/Data/train/adenocarcinoma/000036 (6).png'),\n",
              "  PosixPath('/content/drive/My Drive/Data/train/adenocarcinoma/000040 (5).png'),\n",
              "  PosixPath('/content/drive/My Drive/Data/train/adenocarcinoma/000040 (3).png'),\n",
              "  PosixPath('/content/drive/My Drive/Data/train/adenocarcinoma/000040 (10).png'),\n",
              "  PosixPath('/content/drive/My Drive/Data/train/adenocarcinoma/000041 (2).png'),\n",
              "  PosixPath('/content/drive/My Drive/Data/train/adenocarcinoma/000041 (4).png'),\n",
              "  PosixPath('/content/drive/My Drive/Data/train/adenocarcinoma/000041 (7).png'),\n",
              "  PosixPath('/content/drive/My Drive/Data/train/adenocarcinoma/000041 (8).png'),\n",
              "  PosixPath('/content/drive/My Drive/Data/train/adenocarcinoma/000042 (10).png'),\n",
              "  PosixPath('/content/drive/My Drive/Data/train/adenocarcinoma/000046 (5).png'),\n",
              "  PosixPath('/content/drive/My Drive/Data/train/adenocarcinoma/000044 (10).png'),\n",
              "  PosixPath('/content/drive/My Drive/Data/train/adenocarcinoma/000044 (9).png'),\n",
              "  PosixPath('/content/drive/My Drive/Data/train/adenocarcinoma/000048.png'),\n",
              "  PosixPath('/content/drive/My Drive/Data/train/adenocarcinoma/000048 (8).png'),\n",
              "  PosixPath('/content/drive/My Drive/Data/train/adenocarcinoma/000049 (5).png'),\n",
              "  PosixPath('/content/drive/My Drive/Data/train/adenocarcinoma/000049 (9).png'),\n",
              "  PosixPath('/content/drive/My Drive/Data/train/adenocarcinoma/000050 (3).png'),\n",
              "  PosixPath('/content/drive/My Drive/Data/train/adenocarcinoma/000050 (5).png'),\n",
              "  PosixPath('/content/drive/My Drive/Data/train/adenocarcinoma/000050 (8).png'),\n",
              "  PosixPath('/content/drive/My Drive/Data/train/adenocarcinoma/000050 (7).png'),\n",
              "  PosixPath('/content/drive/My Drive/Data/train/adenocarcinoma/000051 (4).png'),\n",
              "  PosixPath('/content/drive/My Drive/Data/train/adenocarcinoma/000051 (3).png'),\n",
              "  PosixPath('/content/drive/My Drive/Data/train/adenocarcinoma/000054 (6).png'),\n",
              "  PosixPath('/content/drive/My Drive/Data/train/adenocarcinoma/000054 (5).png'),\n",
              "  PosixPath('/content/drive/My Drive/Data/train/adenocarcinoma/000052 (10).png'),\n",
              "  PosixPath('/content/drive/My Drive/Data/train/adenocarcinoma/000054.png'),\n",
              "  PosixPath('/content/drive/My Drive/Data/train/adenocarcinoma/000055 (2).png'),\n",
              "  PosixPath('/content/drive/My Drive/Data/train/adenocarcinoma/000054 (7).png'),\n",
              "  PosixPath('/content/drive/My Drive/Data/train/adenocarcinoma/000056 (7).png'),\n",
              "  PosixPath('/content/drive/My Drive/Data/train/adenocarcinoma/000057 (2).png'),\n",
              "  PosixPath('/content/drive/My Drive/Data/train/adenocarcinoma/000057.png'),\n",
              "  PosixPath('/content/drive/My Drive/Data/train/adenocarcinoma/000059 (7).png'),\n",
              "  PosixPath('/content/drive/My Drive/Data/train/adenocarcinoma/000058 (4).png'),\n",
              "  PosixPath('/content/drive/My Drive/Data/train/adenocarcinoma/000058 (5).png'),\n",
              "  PosixPath('/content/drive/My Drive/Data/train/adenocarcinoma/000061.png'),\n",
              "  PosixPath('/content/drive/My Drive/Data/train/adenocarcinoma/000063 (3).png'),\n",
              "  PosixPath('/content/drive/My Drive/Data/train/adenocarcinoma/000063 (7).png'),\n",
              "  PosixPath('/content/drive/My Drive/Data/train/adenocarcinoma/000063 (5).png'),\n",
              "  PosixPath('/content/drive/My Drive/Data/train/adenocarcinoma/000065 (3).png'),\n",
              "  PosixPath('/content/drive/My Drive/Data/train/adenocarcinoma/000065 (8).png'),\n",
              "  PosixPath('/content/drive/My Drive/Data/train/adenocarcinoma/000066 (9).png'),\n",
              "  PosixPath('/content/drive/My Drive/Data/train/adenocarcinoma/000066 (10).png'),\n",
              "  PosixPath('/content/drive/My Drive/Data/train/adenocarcinoma/000065 (9).png'),\n",
              "  PosixPath('/content/drive/My Drive/Data/train/adenocarcinoma/000067 (10).png'),\n",
              "  PosixPath('/content/drive/My Drive/Data/train/adenocarcinoma/000067.png'),\n",
              "  PosixPath('/content/drive/My Drive/Data/train/adenocarcinoma/000068 (10).png'),\n",
              "  PosixPath('/content/drive/My Drive/Data/train/adenocarcinoma/000068 (3).png'),\n",
              "  PosixPath('/content/drive/My Drive/Data/train/adenocarcinoma/000068 (9).png'),\n",
              "  PosixPath('/content/drive/My Drive/Data/train/adenocarcinoma/000071 (3).png'),\n",
              "  PosixPath('/content/drive/My Drive/Data/train/adenocarcinoma/000069 (6).png'),\n",
              "  PosixPath('/content/drive/My Drive/Data/train/adenocarcinoma/000072 (10).png'),\n",
              "  PosixPath('/content/drive/My Drive/Data/train/adenocarcinoma/000074 (5).png'),\n",
              "  PosixPath('/content/drive/My Drive/Data/train/adenocarcinoma/000075 (5).png'),\n",
              "  PosixPath('/content/drive/My Drive/Data/train/adenocarcinoma/000077 (9).png'),\n",
              "  PosixPath('/content/drive/My Drive/Data/train/adenocarcinoma/000077 (6).png'),\n",
              "  PosixPath('/content/drive/My Drive/Data/train/adenocarcinoma/000078 (6).png'),\n",
              "  PosixPath('/content/drive/My Drive/Data/train/adenocarcinoma/000080 (10).png'),\n",
              "  PosixPath('/content/drive/My Drive/Data/train/adenocarcinoma/000079 (6).png'),\n",
              "  PosixPath('/content/drive/My Drive/Data/train/adenocarcinoma/000083 (3).png'),\n",
              "  PosixPath('/content/drive/My Drive/Data/train/adenocarcinoma/000080 (6).png'),\n",
              "  PosixPath('/content/drive/My Drive/Data/train/adenocarcinoma/000081 (2).png'),\n",
              "  PosixPath('/content/drive/My Drive/Data/train/adenocarcinoma/000084 (2).png'),\n",
              "  PosixPath('/content/drive/My Drive/Data/train/adenocarcinoma/000083 (6).png'),\n",
              "  PosixPath('/content/drive/My Drive/Data/train/adenocarcinoma/000084 (7).png'),\n",
              "  PosixPath('/content/drive/My Drive/Data/train/adenocarcinoma/000084 (3).png'),\n",
              "  PosixPath('/content/drive/My Drive/Data/train/adenocarcinoma/000084.png'),\n",
              "  PosixPath('/content/drive/My Drive/Data/train/adenocarcinoma/000085 (10).png'),\n",
              "  PosixPath('/content/drive/My Drive/Data/train/adenocarcinoma/000085 (4).png'),\n",
              "  PosixPath('/content/drive/My Drive/Data/train/adenocarcinoma/000086 (3).png'),\n",
              "  PosixPath('/content/drive/My Drive/Data/train/adenocarcinoma/000085 (7).png'),\n",
              "  PosixPath('/content/drive/My Drive/Data/train/adenocarcinoma/000086 (8).png'),\n",
              "  PosixPath('/content/drive/My Drive/Data/train/adenocarcinoma/000087 (4).png'),\n",
              "  PosixPath('/content/drive/My Drive/Data/train/adenocarcinoma/000090 (2).png'),\n",
              "  PosixPath('/content/drive/My Drive/Data/train/adenocarcinoma/000089 (8).png'),\n",
              "  PosixPath('/content/drive/My Drive/Data/train/adenocarcinoma/000087 (8).png'),\n",
              "  PosixPath('/content/drive/My Drive/Data/train/adenocarcinoma/000091.png'),\n",
              "  PosixPath('/content/drive/My Drive/Data/train/adenocarcinoma/000091 (3).png'),\n",
              "  PosixPath('/content/drive/My Drive/Data/train/adenocarcinoma/000091 (7).png'),\n",
              "  PosixPath('/content/drive/My Drive/Data/train/adenocarcinoma/000093 (10).png'),\n",
              "  PosixPath('/content/drive/My Drive/Data/train/adenocarcinoma/000092 (10).png'),\n",
              "  PosixPath('/content/drive/My Drive/Data/train/adenocarcinoma/000093 (6).png'),\n",
              "  PosixPath('/content/drive/My Drive/Data/train/adenocarcinoma/000093 (4).png'),\n",
              "  PosixPath('/content/drive/My Drive/Data/train/adenocarcinoma/000095 (6).png'),\n",
              "  PosixPath('/content/drive/My Drive/Data/train/adenocarcinoma/000095.png'),\n",
              "  PosixPath('/content/drive/My Drive/Data/train/adenocarcinoma/000096 (7).png'),\n",
              "  PosixPath('/content/drive/My Drive/Data/train/adenocarcinoma/000097 (10).png'),\n",
              "  PosixPath('/content/drive/My Drive/Data/train/adenocarcinoma/000097 (2).png'),\n",
              "  PosixPath('/content/drive/My Drive/Data/train/adenocarcinoma/000097 (3).png'),\n",
              "  PosixPath('/content/drive/My Drive/Data/train/adenocarcinoma/000098 (8).png'),\n",
              "  PosixPath('/content/drive/My Drive/Data/train/adenocarcinoma/000099 (7).png'),\n",
              "  PosixPath('/content/drive/My Drive/Data/train/adenocarcinoma/000098 (5).png'),\n",
              "  PosixPath('/content/drive/My Drive/Data/train/adenocarcinoma/000100 (10).png'),\n",
              "  PosixPath('/content/drive/My Drive/Data/train/adenocarcinoma/000102 (2).png'),\n",
              "  PosixPath('/content/drive/My Drive/Data/train/adenocarcinoma/000101 (7).png'),\n",
              "  PosixPath('/content/drive/My Drive/Data/train/adenocarcinoma/000102 (3).png'),\n",
              "  PosixPath('/content/drive/My Drive/Data/train/adenocarcinoma/000103 (9).png'),\n",
              "  PosixPath('/content/drive/My Drive/Data/train/adenocarcinoma/000102 (7).png'),\n",
              "  PosixPath('/content/drive/My Drive/Data/train/adenocarcinoma/000102.png'),\n",
              "  PosixPath('/content/drive/My Drive/Data/train/adenocarcinoma/000104 (10).png'),\n",
              "  PosixPath('/content/drive/My Drive/Data/train/adenocarcinoma/000104 (4).png'),\n",
              "  PosixPath('/content/drive/My Drive/Data/train/adenocarcinoma/000105 (3).png'),\n",
              "  PosixPath('/content/drive/My Drive/Data/train/adenocarcinoma/000105 (4).png'),\n",
              "  PosixPath('/content/drive/My Drive/Data/train/adenocarcinoma/000105.png'),\n",
              "  PosixPath('/content/drive/My Drive/Data/train/adenocarcinoma/000106 (4).png'),\n",
              "  PosixPath('/content/drive/My Drive/Data/train/adenocarcinoma/000106 (10).png'),\n",
              "  PosixPath('/content/drive/My Drive/Data/train/adenocarcinoma/000107 (9).png'),\n",
              "  PosixPath('/content/drive/My Drive/Data/train/adenocarcinoma/000106 (8).png'),\n",
              "  PosixPath('/content/drive/My Drive/Data/train/adenocarcinoma/000118 (4).png'),\n",
              "  PosixPath('/content/drive/My Drive/Data/train/adenocarcinoma/000118 (6).png'),\n",
              "  PosixPath('/content/drive/My Drive/Data/train/adenocarcinoma/000119 (10).png'),\n",
              "  PosixPath('/content/drive/My Drive/Data/train/adenocarcinoma/000119 (4).png'),\n",
              "  PosixPath('/content/drive/My Drive/Data/train/adenocarcinoma/000119 (5).png'),\n",
              "  PosixPath('/content/drive/My Drive/Data/train/adenocarcinoma/000121 (10).png'),\n",
              "  PosixPath('/content/drive/My Drive/Data/train/adenocarcinoma/000119 (6).png'),\n",
              "  PosixPath('/content/drive/My Drive/Data/train/adenocarcinoma/000121 (9).png'),\n",
              "  PosixPath('/content/drive/My Drive/Data/train/adenocarcinoma/000121.png'),\n",
              "  PosixPath('/content/drive/My Drive/Data/train/adenocarcinoma/ad1.png'),\n",
              "  PosixPath('/content/drive/My Drive/Data/train/adenocarcinoma/000122.png'),\n",
              "  PosixPath('/content/drive/My Drive/Data/train/adenocarcinoma/ad11.png'),\n",
              "  PosixPath('/content/drive/My Drive/Data/train/adenocarcinoma/ad10.png'),\n",
              "  PosixPath('/content/drive/My Drive/Data/train/adenocarcinoma/ad12.png'),\n",
              "  PosixPath('/content/drive/My Drive/Data/train/adenocarcinoma/ad13.png'),\n",
              "  PosixPath('/content/drive/My Drive/Data/train/adenocarcinoma/ad15.png'),\n",
              "  PosixPath('/content/drive/My Drive/Data/train/adenocarcinoma/ad14.png'),\n",
              "  PosixPath('/content/drive/My Drive/Data/train/adenocarcinoma/ad17.png'),\n",
              "  PosixPath('/content/drive/My Drive/Data/train/adenocarcinoma/ad16.png'),\n",
              "  PosixPath('/content/drive/My Drive/Data/train/adenocarcinoma/ad19.png'),\n",
              "  PosixPath('/content/drive/My Drive/Data/train/adenocarcinoma/ad18.png'),\n",
              "  PosixPath('/content/drive/My Drive/Data/train/adenocarcinoma/ad2.png'),\n",
              "  PosixPath('/content/drive/My Drive/Data/train/adenocarcinoma/ad21.png'),\n",
              "  PosixPath('/content/drive/My Drive/Data/train/adenocarcinoma/ad20.png'),\n",
              "  PosixPath('/content/drive/My Drive/Data/train/adenocarcinoma/ad3.png'),\n",
              "  PosixPath('/content/drive/My Drive/Data/train/adenocarcinoma/ad22.png'),\n",
              "  PosixPath('/content/drive/My Drive/Data/train/adenocarcinoma/ad4.png'),\n",
              "  PosixPath('/content/drive/My Drive/Data/train/adenocarcinoma/ad5.png'),\n",
              "  PosixPath('/content/drive/My Drive/Data/train/adenocarcinoma/ad7.png'),\n",
              "  PosixPath('/content/drive/My Drive/Data/train/adenocarcinoma/ad6.png'),\n",
              "  PosixPath('/content/drive/My Drive/Data/train/adenocarcinoma/ad8.png'),\n",
              "  PosixPath('/content/drive/My Drive/Data/train/adenocarcinoma/ad9.png')],\n",
              " 'large_cell_carcinoma': [PosixPath('/content/drive/My Drive/Data/train/large_cell_carcinoma/000002.png'),\n",
              "  PosixPath('/content/drive/My Drive/Data/train/large_cell_carcinoma/000003 (3).png'),\n",
              "  PosixPath('/content/drive/My Drive/Data/train/large_cell_carcinoma/000003 (4).png'),\n",
              "  PosixPath('/content/drive/My Drive/Data/train/large_cell_carcinoma/000009 (4).png'),\n",
              "  PosixPath('/content/drive/My Drive/Data/train/large_cell_carcinoma/000009 (3).png'),\n",
              "  PosixPath('/content/drive/My Drive/Data/train/large_cell_carcinoma/000015.png'),\n",
              "  PosixPath('/content/drive/My Drive/Data/train/large_cell_carcinoma/000010.png'),\n",
              "  PosixPath('/content/drive/My Drive/Data/train/large_cell_carcinoma/000016 (4).png'),\n",
              "  PosixPath('/content/drive/My Drive/Data/train/large_cell_carcinoma/000017.png'),\n",
              "  PosixPath('/content/drive/My Drive/Data/train/large_cell_carcinoma/000016 (3).png'),\n",
              "  PosixPath('/content/drive/My Drive/Data/train/large_cell_carcinoma/000019 (3).png'),\n",
              "  PosixPath('/content/drive/My Drive/Data/train/large_cell_carcinoma/000018 (2).png'),\n",
              "  PosixPath('/content/drive/My Drive/Data/train/large_cell_carcinoma/000020 (3).png'),\n",
              "  PosixPath('/content/drive/My Drive/Data/train/large_cell_carcinoma/000020 (4).png'),\n",
              "  PosixPath('/content/drive/My Drive/Data/train/large_cell_carcinoma/000019 (4).png'),\n",
              "  PosixPath('/content/drive/My Drive/Data/train/large_cell_carcinoma/000023 (2).png'),\n",
              "  PosixPath('/content/drive/My Drive/Data/train/large_cell_carcinoma/000021.png'),\n",
              "  PosixPath('/content/drive/My Drive/Data/train/large_cell_carcinoma/000026 (2).png'),\n",
              "  PosixPath('/content/drive/My Drive/Data/train/large_cell_carcinoma/000024 (2).png'),\n",
              "  PosixPath('/content/drive/My Drive/Data/train/large_cell_carcinoma/000027 (2).png'),\n",
              "  PosixPath('/content/drive/My Drive/Data/train/large_cell_carcinoma/000026.png'),\n",
              "  PosixPath('/content/drive/My Drive/Data/train/large_cell_carcinoma/000031.png'),\n",
              "  PosixPath('/content/drive/My Drive/Data/train/large_cell_carcinoma/000027.png'),\n",
              "  PosixPath('/content/drive/My Drive/Data/train/large_cell_carcinoma/000031 (2).png'),\n",
              "  PosixPath('/content/drive/My Drive/Data/train/large_cell_carcinoma/000032.png'),\n",
              "  PosixPath('/content/drive/My Drive/Data/train/large_cell_carcinoma/000033 (3).png'),\n",
              "  PosixPath('/content/drive/My Drive/Data/train/large_cell_carcinoma/000033 (4).png'),\n",
              "  PosixPath('/content/drive/My Drive/Data/train/large_cell_carcinoma/000034 (2).png'),\n",
              "  PosixPath('/content/drive/My Drive/Data/train/large_cell_carcinoma/000039 (4).png'),\n",
              "  PosixPath('/content/drive/My Drive/Data/train/large_cell_carcinoma/000039 (3).png'),\n",
              "  PosixPath('/content/drive/My Drive/Data/train/large_cell_carcinoma/000040 (2).png'),\n",
              "  PosixPath('/content/drive/My Drive/Data/train/large_cell_carcinoma/000041 (3).png'),\n",
              "  PosixPath('/content/drive/My Drive/Data/train/large_cell_carcinoma/000041.png'),\n",
              "  PosixPath('/content/drive/My Drive/Data/train/large_cell_carcinoma/000042 (2).png'),\n",
              "  PosixPath('/content/drive/My Drive/Data/train/large_cell_carcinoma/000041 (4).png'),\n",
              "  PosixPath('/content/drive/My Drive/Data/train/large_cell_carcinoma/000043 (2).png'),\n",
              "  PosixPath('/content/drive/My Drive/Data/train/large_cell_carcinoma/000046.png'),\n",
              "  PosixPath('/content/drive/My Drive/Data/train/large_cell_carcinoma/000047 (2).png'),\n",
              "  PosixPath('/content/drive/My Drive/Data/train/large_cell_carcinoma/000045.png'),\n",
              "  PosixPath('/content/drive/My Drive/Data/train/large_cell_carcinoma/000055 (4).png'),\n",
              "  PosixPath('/content/drive/My Drive/Data/train/large_cell_carcinoma/000051.png'),\n",
              "  PosixPath('/content/drive/My Drive/Data/train/large_cell_carcinoma/000055 (3).png'),\n",
              "  PosixPath('/content/drive/My Drive/Data/train/large_cell_carcinoma/000056 (3).png'),\n",
              "  PosixPath('/content/drive/My Drive/Data/train/large_cell_carcinoma/000055.png'),\n",
              "  PosixPath('/content/drive/My Drive/Data/train/large_cell_carcinoma/000057 (3).png'),\n",
              "  PosixPath('/content/drive/My Drive/Data/train/large_cell_carcinoma/000056 (4).png'),\n",
              "  PosixPath('/content/drive/My Drive/Data/train/large_cell_carcinoma/000058 (3).png'),\n",
              "  PosixPath('/content/drive/My Drive/Data/train/large_cell_carcinoma/000057 (4).png'),\n",
              "  PosixPath('/content/drive/My Drive/Data/train/large_cell_carcinoma/000057.png'),\n",
              "  PosixPath('/content/drive/My Drive/Data/train/large_cell_carcinoma/000058 (4).png'),\n",
              "  PosixPath('/content/drive/My Drive/Data/train/large_cell_carcinoma/000059 (4).png'),\n",
              "  PosixPath('/content/drive/My Drive/Data/train/large_cell_carcinoma/000059 (3).png'),\n",
              "  PosixPath('/content/drive/My Drive/Data/train/large_cell_carcinoma/000060.png'),\n",
              "  PosixPath('/content/drive/My Drive/Data/train/large_cell_carcinoma/000062 (3).png'),\n",
              "  PosixPath('/content/drive/My Drive/Data/train/large_cell_carcinoma/000062 (2).png'),\n",
              "  PosixPath('/content/drive/My Drive/Data/train/large_cell_carcinoma/000062.png'),\n",
              "  PosixPath('/content/drive/My Drive/Data/train/large_cell_carcinoma/000062 (4).png'),\n",
              "  PosixPath('/content/drive/My Drive/Data/train/large_cell_carcinoma/000063.png'),\n",
              "  PosixPath('/content/drive/My Drive/Data/train/large_cell_carcinoma/000063 (2).png'),\n",
              "  PosixPath('/content/drive/My Drive/Data/train/large_cell_carcinoma/000065 (2).png'),\n",
              "  PosixPath('/content/drive/My Drive/Data/train/large_cell_carcinoma/000066 (2).png'),\n",
              "  PosixPath('/content/drive/My Drive/Data/train/large_cell_carcinoma/000066.png'),\n",
              "  PosixPath('/content/drive/My Drive/Data/train/large_cell_carcinoma/000068 (3).png'),\n",
              "  PosixPath('/content/drive/My Drive/Data/train/large_cell_carcinoma/000068.png'),\n",
              "  PosixPath('/content/drive/My Drive/Data/train/large_cell_carcinoma/000068 (4).png'),\n",
              "  PosixPath('/content/drive/My Drive/Data/train/large_cell_carcinoma/000069.png'),\n",
              "  PosixPath('/content/drive/My Drive/Data/train/large_cell_carcinoma/000071 (2).png'),\n",
              "  PosixPath('/content/drive/My Drive/Data/train/large_cell_carcinoma/000072 (2).png'),\n",
              "  PosixPath('/content/drive/My Drive/Data/train/large_cell_carcinoma/000073 (2).png'),\n",
              "  PosixPath('/content/drive/My Drive/Data/train/large_cell_carcinoma/000076 (3).png'),\n",
              "  PosixPath('/content/drive/My Drive/Data/train/large_cell_carcinoma/000076 (4).png'),\n",
              "  PosixPath('/content/drive/My Drive/Data/train/large_cell_carcinoma/000078 (3).png'),\n",
              "  PosixPath('/content/drive/My Drive/Data/train/large_cell_carcinoma/000077.png'),\n",
              "  PosixPath('/content/drive/My Drive/Data/train/large_cell_carcinoma/000080.png'),\n",
              "  PosixPath('/content/drive/My Drive/Data/train/large_cell_carcinoma/000078 (4).png'),\n",
              "  PosixPath('/content/drive/My Drive/Data/train/large_cell_carcinoma/000084 (2).png'),\n",
              "  PosixPath('/content/drive/My Drive/Data/train/large_cell_carcinoma/000081.png'),\n",
              "  PosixPath('/content/drive/My Drive/Data/train/large_cell_carcinoma/000084.png'),\n",
              "  PosixPath('/content/drive/My Drive/Data/train/large_cell_carcinoma/000089.png'),\n",
              "  PosixPath('/content/drive/My Drive/Data/train/large_cell_carcinoma/000093 (3).png'),\n",
              "  PosixPath('/content/drive/My Drive/Data/train/large_cell_carcinoma/000093 (4).png'),\n",
              "  PosixPath('/content/drive/My Drive/Data/train/large_cell_carcinoma/000094 (2).png'),\n",
              "  PosixPath('/content/drive/My Drive/Data/train/large_cell_carcinoma/000094 (4) (1).png'),\n",
              "  PosixPath('/content/drive/My Drive/Data/train/large_cell_carcinoma/000094 (3).png'),\n",
              "  PosixPath('/content/drive/My Drive/Data/train/large_cell_carcinoma/000094 (4).png'),\n",
              "  PosixPath('/content/drive/My Drive/Data/train/large_cell_carcinoma/000095 (3) (1).png'),\n",
              "  PosixPath('/content/drive/My Drive/Data/train/large_cell_carcinoma/000095 (3).png'),\n",
              "  PosixPath('/content/drive/My Drive/Data/train/large_cell_carcinoma/000095 (2) (1).png'),\n",
              "  PosixPath('/content/drive/My Drive/Data/train/large_cell_carcinoma/000095 (2).png'),\n",
              "  PosixPath('/content/drive/My Drive/Data/train/large_cell_carcinoma/000095 (4) (1).png'),\n",
              "  PosixPath('/content/drive/My Drive/Data/train/large_cell_carcinoma/000095 (4).png'),\n",
              "  PosixPath('/content/drive/My Drive/Data/train/large_cell_carcinoma/000095 (1).png'),\n",
              "  PosixPath('/content/drive/My Drive/Data/train/large_cell_carcinoma/000095.png'),\n",
              "  PosixPath('/content/drive/My Drive/Data/train/large_cell_carcinoma/000097 (2) (1).png'),\n",
              "  PosixPath('/content/drive/My Drive/Data/train/large_cell_carcinoma/000097 (1).png'),\n",
              "  PosixPath('/content/drive/My Drive/Data/train/large_cell_carcinoma/000098 (3) (1).png'),\n",
              "  PosixPath('/content/drive/My Drive/Data/train/large_cell_carcinoma/000097.png'),\n",
              "  PosixPath('/content/drive/My Drive/Data/train/large_cell_carcinoma/000098 (3).png'),\n",
              "  PosixPath('/content/drive/My Drive/Data/train/large_cell_carcinoma/000097 (2).png'),\n",
              "  PosixPath('/content/drive/My Drive/Data/train/large_cell_carcinoma/000104 (2).png'),\n",
              "  PosixPath('/content/drive/My Drive/Data/train/large_cell_carcinoma/000098 (4).png'),\n",
              "  PosixPath('/content/drive/My Drive/Data/train/large_cell_carcinoma/000104.png'),\n",
              "  PosixPath('/content/drive/My Drive/Data/train/large_cell_carcinoma/000105 (2).png'),\n",
              "  PosixPath('/content/drive/My Drive/Data/train/large_cell_carcinoma/000105.png'),\n",
              "  PosixPath('/content/drive/My Drive/Data/train/large_cell_carcinoma/000106 (2).png'),\n",
              "  PosixPath('/content/drive/My Drive/Data/train/large_cell_carcinoma/000106.png'),\n",
              "  PosixPath('/content/drive/My Drive/Data/train/large_cell_carcinoma/000133.png'),\n",
              "  PosixPath('/content/drive/My Drive/Data/train/large_cell_carcinoma/000137.png'),\n",
              "  PosixPath('/content/drive/My Drive/Data/train/large_cell_carcinoma/000143.png'),\n",
              "  PosixPath('/content/drive/My Drive/Data/train/large_cell_carcinoma/000154.png'),\n",
              "  PosixPath('/content/drive/My Drive/Data/train/large_cell_carcinoma/000149.png'),\n",
              "  PosixPath('/content/drive/My Drive/Data/train/large_cell_carcinoma/000150.png'),\n",
              "  PosixPath('/content/drive/My Drive/Data/train/large_cell_carcinoma/000169.png'),\n",
              "  PosixPath('/content/drive/My Drive/Data/train/large_cell_carcinoma/000159.png'),\n",
              "  PosixPath('/content/drive/My Drive/Data/train/large_cell_carcinoma/000172.png'),\n",
              "  PosixPath('/content/drive/My Drive/Data/train/large_cell_carcinoma/000173.png'),\n",
              "  PosixPath('/content/drive/My Drive/Data/train/large_cell_carcinoma/di1.png'),\n",
              "  PosixPath('/content/drive/My Drive/Data/train/large_cell_carcinoma/l1.png'),\n",
              "  PosixPath('/content/drive/My Drive/Data/train/large_cell_carcinoma/l2.png'),\n",
              "  PosixPath('/content/drive/My Drive/Data/train/large_cell_carcinoma/l3.png'),\n",
              "  PosixPath('/content/drive/My Drive/Data/train/large_cell_carcinoma/l4.png'),\n",
              "  PosixPath('/content/drive/My Drive/Data/train/large_cell_carcinoma/l6.png'),\n",
              "  PosixPath('/content/drive/My Drive/Data/train/large_cell_carcinoma/l5.png')],\n",
              " 'normal': [PosixPath('/content/drive/My Drive/Data/train/normal/10 (2).png'),\n",
              "  PosixPath('/content/drive/My Drive/Data/train/normal/10 - Copy (2) - Copy.png'),\n",
              "  PosixPath('/content/drive/My Drive/Data/train/normal/10 (2) - Copy.png'),\n",
              "  PosixPath('/content/drive/My Drive/Data/train/normal/10 - Copy (2).png'),\n",
              "  PosixPath('/content/drive/My Drive/Data/train/normal/10 - Copy (3).png'),\n",
              "  PosixPath('/content/drive/My Drive/Data/train/normal/10 - Copy.png'),\n",
              "  PosixPath('/content/drive/My Drive/Data/train/normal/10 - Copy - Copy.png'),\n",
              "  PosixPath('/content/drive/My Drive/Data/train/normal/11 (2) - Copy.png'),\n",
              "  PosixPath('/content/drive/My Drive/Data/train/normal/10.png'),\n",
              "  PosixPath('/content/drive/My Drive/Data/train/normal/11 - Copy (2) - Copy.png'),\n",
              "  PosixPath('/content/drive/My Drive/Data/train/normal/11 (2).png'),\n",
              "  PosixPath('/content/drive/My Drive/Data/train/normal/11 - Copy (2).png'),\n",
              "  PosixPath('/content/drive/My Drive/Data/train/normal/11 - Copy - Copy.png'),\n",
              "  PosixPath('/content/drive/My Drive/Data/train/normal/11 - Copy.png'),\n",
              "  PosixPath('/content/drive/My Drive/Data/train/normal/11 - Copy (3).png'),\n",
              "  PosixPath('/content/drive/My Drive/Data/train/normal/11.png'),\n",
              "  PosixPath('/content/drive/My Drive/Data/train/normal/12 (2) - Copy.png'),\n",
              "  PosixPath('/content/drive/My Drive/Data/train/normal/12 - Copy (2) - Copy.png'),\n",
              "  PosixPath('/content/drive/My Drive/Data/train/normal/12 (2).png'),\n",
              "  PosixPath('/content/drive/My Drive/Data/train/normal/12 - Copy (2).png'),\n",
              "  PosixPath('/content/drive/My Drive/Data/train/normal/12 - Copy.png'),\n",
              "  PosixPath('/content/drive/My Drive/Data/train/normal/12 - Copy - Copy.png'),\n",
              "  PosixPath('/content/drive/My Drive/Data/train/normal/12 - Copy (3).png'),\n",
              "  PosixPath('/content/drive/My Drive/Data/train/normal/12.png'),\n",
              "  PosixPath('/content/drive/My Drive/Data/train/normal/13 (2).png'),\n",
              "  PosixPath('/content/drive/My Drive/Data/train/normal/13 (2) - Copy.png'),\n",
              "  PosixPath('/content/drive/My Drive/Data/train/normal/13 - Copy (2).png'),\n",
              "  PosixPath('/content/drive/My Drive/Data/train/normal/13 - Copy (2) - Copy.png'),\n",
              "  PosixPath('/content/drive/My Drive/Data/train/normal/13 - Copy (3).png'),\n",
              "  PosixPath('/content/drive/My Drive/Data/train/normal/13 - Copy - Copy.png'),\n",
              "  PosixPath('/content/drive/My Drive/Data/train/normal/13 - Copy.png'),\n",
              "  PosixPath('/content/drive/My Drive/Data/train/normal/16 (2) - Copy.png'),\n",
              "  PosixPath('/content/drive/My Drive/Data/train/normal/13.png'),\n",
              "  PosixPath('/content/drive/My Drive/Data/train/normal/16 - Copy (2) - Copy.png'),\n",
              "  PosixPath('/content/drive/My Drive/Data/train/normal/16 (2).png'),\n",
              "  PosixPath('/content/drive/My Drive/Data/train/normal/16 - Copy (3).png'),\n",
              "  PosixPath('/content/drive/My Drive/Data/train/normal/16 - Copy (2).png'),\n",
              "  PosixPath('/content/drive/My Drive/Data/train/normal/16 - Copy - Copy.png'),\n",
              "  PosixPath('/content/drive/My Drive/Data/train/normal/16 - Copy.png'),\n",
              "  PosixPath('/content/drive/My Drive/Data/train/normal/16.png'),\n",
              "  PosixPath('/content/drive/My Drive/Data/train/normal/17 (2) - Copy.png'),\n",
              "  PosixPath('/content/drive/My Drive/Data/train/normal/17 (2).png'),\n",
              "  PosixPath('/content/drive/My Drive/Data/train/normal/17 - Copy (2) - Copy.png'),\n",
              "  PosixPath('/content/drive/My Drive/Data/train/normal/17 - Copy (3).png'),\n",
              "  PosixPath('/content/drive/My Drive/Data/train/normal/17 - Copy (2).png'),\n",
              "  PosixPath('/content/drive/My Drive/Data/train/normal/17 - Copy - Copy.png'),\n",
              "  PosixPath('/content/drive/My Drive/Data/train/normal/17.png'),\n",
              "  PosixPath('/content/drive/My Drive/Data/train/normal/17 - Copy.png'),\n",
              "  PosixPath('/content/drive/My Drive/Data/train/normal/18 (2).png'),\n",
              "  PosixPath('/content/drive/My Drive/Data/train/normal/18 (2) - Copy.png'),\n",
              "  PosixPath('/content/drive/My Drive/Data/train/normal/18 - Copy (2) - Copy.png'),\n",
              "  PosixPath('/content/drive/My Drive/Data/train/normal/18 - Copy (2).png'),\n",
              "  PosixPath('/content/drive/My Drive/Data/train/normal/18 - Copy (3).png'),\n",
              "  PosixPath('/content/drive/My Drive/Data/train/normal/18 - Copy - Copy.png'),\n",
              "  PosixPath('/content/drive/My Drive/Data/train/normal/18 - Copy.png'),\n",
              "  PosixPath('/content/drive/My Drive/Data/train/normal/18.png'),\n",
              "  PosixPath('/content/drive/My Drive/Data/train/normal/19 (2).png'),\n",
              "  PosixPath('/content/drive/My Drive/Data/train/normal/19 (2) - Copy.png'),\n",
              "  PosixPath('/content/drive/My Drive/Data/train/normal/19 - Copy (2).png'),\n",
              "  PosixPath('/content/drive/My Drive/Data/train/normal/19 - Copy (2) - Copy.png'),\n",
              "  PosixPath('/content/drive/My Drive/Data/train/normal/19 - Copy (3).png'),\n",
              "  PosixPath('/content/drive/My Drive/Data/train/normal/19 - Copy - Copy.png'),\n",
              "  PosixPath('/content/drive/My Drive/Data/train/normal/19.png'),\n",
              "  PosixPath('/content/drive/My Drive/Data/train/normal/19 - Copy.png'),\n",
              "  PosixPath('/content/drive/My Drive/Data/train/normal/2 - Copy (2) - Copy.png'),\n",
              "  PosixPath('/content/drive/My Drive/Data/train/normal/2 (2).png'),\n",
              "  PosixPath('/content/drive/My Drive/Data/train/normal/2 (2) - Copy.png'),\n",
              "  PosixPath('/content/drive/My Drive/Data/train/normal/2 - Copy (2).png'),\n",
              "  PosixPath('/content/drive/My Drive/Data/train/normal/2 - Copy - Copy.png'),\n",
              "  PosixPath('/content/drive/My Drive/Data/train/normal/2 - Copy (3).png'),\n",
              "  PosixPath('/content/drive/My Drive/Data/train/normal/2.png'),\n",
              "  PosixPath('/content/drive/My Drive/Data/train/normal/2 - Copy.png'),\n",
              "  PosixPath('/content/drive/My Drive/Data/train/normal/20 (2) - Copy.png'),\n",
              "  PosixPath('/content/drive/My Drive/Data/train/normal/20 (2).png'),\n",
              "  PosixPath('/content/drive/My Drive/Data/train/normal/20 - Copy (2) - Copy.png'),\n",
              "  PosixPath('/content/drive/My Drive/Data/train/normal/20 - Copy (3).png'),\n",
              "  PosixPath('/content/drive/My Drive/Data/train/normal/20 - Copy - Copy.png'),\n",
              "  PosixPath('/content/drive/My Drive/Data/train/normal/20 - Copy (2).png'),\n",
              "  PosixPath('/content/drive/My Drive/Data/train/normal/20.png'),\n",
              "  PosixPath('/content/drive/My Drive/Data/train/normal/21 - Copy (2) - Copy.png'),\n",
              "  PosixPath('/content/drive/My Drive/Data/train/normal/20 - Copy.png'),\n",
              "  PosixPath('/content/drive/My Drive/Data/train/normal/21 - Copy - Copy.png'),\n",
              "  PosixPath('/content/drive/My Drive/Data/train/normal/21 - Copy (2).png'),\n",
              "  PosixPath('/content/drive/My Drive/Data/train/normal/21 - Copy.png'),\n",
              "  PosixPath('/content/drive/My Drive/Data/train/normal/3 (2).png'),\n",
              "  PosixPath('/content/drive/My Drive/Data/train/normal/3 (2) - Copy.png'),\n",
              "  PosixPath('/content/drive/My Drive/Data/train/normal/3 - Copy (2).png'),\n",
              "  PosixPath('/content/drive/My Drive/Data/train/normal/3 - Copy (2) - Copy.png'),\n",
              "  PosixPath('/content/drive/My Drive/Data/train/normal/3 - Copy - Copy.png'),\n",
              "  PosixPath('/content/drive/My Drive/Data/train/normal/3 - Copy (3).png'),\n",
              "  PosixPath('/content/drive/My Drive/Data/train/normal/3 - Copy.png'),\n",
              "  PosixPath('/content/drive/My Drive/Data/train/normal/3.png'),\n",
              "  PosixPath('/content/drive/My Drive/Data/train/normal/4 (2).png'),\n",
              "  PosixPath('/content/drive/My Drive/Data/train/normal/4 (2) - Copy.png'),\n",
              "  PosixPath('/content/drive/My Drive/Data/train/normal/4 - Copy (2).png'),\n",
              "  PosixPath('/content/drive/My Drive/Data/train/normal/4 - Copy (2) - Copy.png'),\n",
              "  PosixPath('/content/drive/My Drive/Data/train/normal/4 - Copy (3).png'),\n",
              "  PosixPath('/content/drive/My Drive/Data/train/normal/4 - Copy - Copy.png'),\n",
              "  PosixPath('/content/drive/My Drive/Data/train/normal/4 - Copy.png'),\n",
              "  PosixPath('/content/drive/My Drive/Data/train/normal/4.png'),\n",
              "  PosixPath('/content/drive/My Drive/Data/train/normal/5 (2).png'),\n",
              "  PosixPath('/content/drive/My Drive/Data/train/normal/5 (2) - Copy.png'),\n",
              "  PosixPath('/content/drive/My Drive/Data/train/normal/5 - Copy (2).png'),\n",
              "  PosixPath('/content/drive/My Drive/Data/train/normal/5 - Copy (2) - Copy.png'),\n",
              "  PosixPath('/content/drive/My Drive/Data/train/normal/5 - Copy.png'),\n",
              "  PosixPath('/content/drive/My Drive/Data/train/normal/5 - Copy - Copy.png'),\n",
              "  PosixPath('/content/drive/My Drive/Data/train/normal/5 - Copy (3).png'),\n",
              "  PosixPath('/content/drive/My Drive/Data/train/normal/5.png'),\n",
              "  PosixPath('/content/drive/My Drive/Data/train/normal/6 (2) - Copy.png'),\n",
              "  PosixPath('/content/drive/My Drive/Data/train/normal/6 (2).png'),\n",
              "  PosixPath('/content/drive/My Drive/Data/train/normal/6 - Copy (2) - Copy.png'),\n",
              "  PosixPath('/content/drive/My Drive/Data/train/normal/6 - Copy (2).png'),\n",
              "  PosixPath('/content/drive/My Drive/Data/train/normal/6 - Copy (3).png'),\n",
              "  PosixPath('/content/drive/My Drive/Data/train/normal/6 - Copy - Copy.png'),\n",
              "  PosixPath('/content/drive/My Drive/Data/train/normal/6 - Copy.png'),\n",
              "  PosixPath('/content/drive/My Drive/Data/train/normal/7 (2) - Copy.png'),\n",
              "  PosixPath('/content/drive/My Drive/Data/train/normal/6.png'),\n",
              "  PosixPath('/content/drive/My Drive/Data/train/normal/7 (2).png'),\n",
              "  PosixPath('/content/drive/My Drive/Data/train/normal/7 - Copy (2) - Copy.png'),\n",
              "  PosixPath('/content/drive/My Drive/Data/train/normal/7 - Copy (3).png'),\n",
              "  PosixPath('/content/drive/My Drive/Data/train/normal/7 - Copy (2).png'),\n",
              "  PosixPath('/content/drive/My Drive/Data/train/normal/7 - Copy.png'),\n",
              "  PosixPath('/content/drive/My Drive/Data/train/normal/7 - Copy - Copy.png'),\n",
              "  PosixPath('/content/drive/My Drive/Data/train/normal/7.png'),\n",
              "  PosixPath('/content/drive/My Drive/Data/train/normal/8 (2).png'),\n",
              "  PosixPath('/content/drive/My Drive/Data/train/normal/8 (2) - Copy.png'),\n",
              "  PosixPath('/content/drive/My Drive/Data/train/normal/8 - Copy (2).png'),\n",
              "  PosixPath('/content/drive/My Drive/Data/train/normal/8 - Copy (2) - Copy.png'),\n",
              "  PosixPath('/content/drive/My Drive/Data/train/normal/8 - Copy - Copy.png'),\n",
              "  PosixPath('/content/drive/My Drive/Data/train/normal/8 - Copy (3).png'),\n",
              "  PosixPath('/content/drive/My Drive/Data/train/normal/8.png'),\n",
              "  PosixPath('/content/drive/My Drive/Data/train/normal/8 - Copy.png'),\n",
              "  PosixPath('/content/drive/My Drive/Data/train/normal/n7 - Copy.png'),\n",
              "  PosixPath('/content/drive/My Drive/Data/train/normal/n7 (2).png'),\n",
              "  PosixPath('/content/drive/My Drive/Data/train/normal/n7 (2) - Copy.png'),\n",
              "  PosixPath('/content/drive/My Drive/Data/train/normal/n7.png')],\n",
              " 'squamous_cell_carcinoma': []}"
            ]
          },
          "metadata": {},
          "execution_count": 10
        }
      ],
      "source": [
        "lung_images_dict"
      ]
    },
    {
      "cell_type": "code",
      "execution_count": null,
      "metadata": {
        "id": "JRSaMtzw75F5"
      },
      "outputs": [],
      "source": [
        "#Different species list\n",
        "keys=[\"adenocarcinoma\",\"large_cell_carcinoma\",\"normal\",\"squamous_cell_carcinoma\"]"
      ]
    },
    {
      "cell_type": "code",
      "execution_count": null,
      "metadata": {
        "id": "nd2CHyRs75F5",
        "colab": {
          "base_uri": "https://localhost:8080/"
        },
        "outputId": "aac8e4d0-d4b3-462a-f65e-ba81a26a9091"
      },
      "outputs": [
        {
          "output_type": "stream",
          "name": "stdout",
          "text": [
            "completed\n",
            "completed\n",
            "completed\n",
            "completed\n",
            "completed\n",
            "completed\n",
            "completed\n",
            "completed\n",
            "completed\n",
            "completed\n",
            "completed\n",
            "completed\n",
            "completed\n",
            "completed\n",
            "completed\n",
            "completed\n",
            "completed\n",
            "completed\n",
            "completed\n",
            "completed\n",
            "completed\n",
            "completed\n",
            "completed\n",
            "completed\n",
            "completed\n",
            "completed\n",
            "completed\n",
            "completed\n",
            "completed\n",
            "completed\n",
            "completed\n",
            "completed\n",
            "completed\n",
            "completed\n",
            "completed\n",
            "completed\n",
            "completed\n",
            "completed\n",
            "completed\n",
            "completed\n",
            "completed\n",
            "completed\n",
            "completed\n",
            "completed\n",
            "completed\n",
            "completed\n",
            "completed\n",
            "completed\n",
            "completed\n",
            "completed\n",
            "completed\n",
            "completed\n",
            "completed\n",
            "completed\n",
            "completed\n",
            "completed\n",
            "completed\n",
            "completed\n",
            "completed\n",
            "completed\n",
            "completed\n",
            "completed\n",
            "completed\n",
            "completed\n",
            "completed\n",
            "completed\n",
            "completed\n",
            "completed\n",
            "completed\n",
            "completed\n",
            "completed\n",
            "completed\n",
            "completed\n",
            "completed\n",
            "completed\n",
            "completed\n",
            "completed\n",
            "completed\n",
            "completed\n",
            "completed\n",
            "completed\n",
            "completed\n",
            "completed\n",
            "completed\n",
            "completed\n",
            "completed\n",
            "completed\n",
            "completed\n",
            "completed\n",
            "completed\n",
            "completed\n",
            "completed\n",
            "completed\n",
            "completed\n",
            "completed\n",
            "completed\n",
            "completed\n",
            "completed\n",
            "completed\n",
            "completed\n",
            "completed\n",
            "completed\n",
            "completed\n",
            "completed\n",
            "completed\n",
            "completed\n",
            "completed\n",
            "completed\n",
            "completed\n",
            "completed\n",
            "completed\n",
            "completed\n",
            "completed\n",
            "completed\n",
            "completed\n",
            "completed\n",
            "completed\n",
            "completed\n",
            "completed\n",
            "completed\n",
            "completed\n",
            "completed\n",
            "completed\n",
            "completed\n",
            "completed\n",
            "completed\n",
            "completed\n",
            "completed\n",
            "completed\n",
            "completed\n",
            "completed\n",
            "completed\n",
            "completed\n",
            "completed\n",
            "completed\n",
            "completed\n",
            "completed\n",
            "completed\n",
            "completed\n",
            "completed\n",
            "completed\n",
            "completed\n",
            "completed\n",
            "completed\n",
            "completed\n",
            "completed\n",
            "completed\n",
            "completed\n",
            "completed\n",
            "completed\n",
            "completed\n",
            "completed\n",
            "completed\n",
            "completed\n",
            "completed\n",
            "completed\n",
            "completed\n",
            "completed\n",
            "completed\n",
            "completed\n",
            "completed\n",
            "completed\n",
            "completed\n",
            "completed\n",
            "completed\n",
            "completed\n",
            "completed\n",
            "completed\n",
            "completed\n",
            "completed\n",
            "completed\n",
            "completed\n",
            "completed\n",
            "completed\n",
            "completed\n",
            "completed\n",
            "completed\n",
            "completed\n",
            "completed\n",
            "completed\n",
            "completed\n",
            "completed\n",
            "completed\n",
            "completed\n",
            "completed\n",
            "completed\n",
            "completed\n",
            "completed\n",
            "completed\n",
            "completed\n",
            "completed\n",
            "completed\n",
            "completed\n",
            "completed\n",
            "completed\n",
            "completed\n",
            "completed\n",
            "completed\n",
            "completed\n",
            "completed\n",
            "completed\n",
            "completed\n",
            "completed\n",
            "completed\n",
            "completed\n",
            "completed\n",
            "completed\n",
            "completed\n",
            "completed\n",
            "completed\n",
            "completed\n",
            "completed\n",
            "completed\n",
            "completed\n",
            "completed\n",
            "completed\n",
            "completed\n",
            "completed\n",
            "completed\n",
            "completed\n",
            "completed\n",
            "completed\n",
            "completed\n",
            "completed\n",
            "completed\n",
            "completed\n",
            "completed\n",
            "completed\n",
            "completed\n",
            "completed\n",
            "completed\n",
            "completed\n",
            "completed\n",
            "completed\n",
            "completed\n",
            "completed\n",
            "completed\n",
            "completed\n",
            "completed\n",
            "completed\n",
            "completed\n",
            "completed\n",
            "completed\n",
            "completed\n",
            "completed\n",
            "completed\n",
            "completed\n",
            "completed\n",
            "completed\n",
            "completed\n",
            "completed\n",
            "completed\n",
            "completed\n",
            "completed\n",
            "completed\n",
            "completed\n",
            "completed\n",
            "completed\n",
            "completed\n",
            "completed\n",
            "completed\n",
            "completed\n",
            "completed\n",
            "completed\n",
            "completed\n",
            "completed\n",
            "completed\n",
            "completed\n",
            "completed\n",
            "completed\n",
            "completed\n",
            "completed\n",
            "completed\n",
            "completed\n",
            "completed\n",
            "completed\n",
            "completed\n",
            "completed\n",
            "completed\n",
            "completed\n",
            "completed\n",
            "completed\n",
            "completed\n",
            "completed\n",
            "completed\n",
            "completed\n",
            "completed\n",
            "completed\n",
            "completed\n",
            "completed\n",
            "completed\n",
            "completed\n",
            "completed\n",
            "completed\n",
            "completed\n",
            "completed\n",
            "completed\n",
            "completed\n",
            "completed\n",
            "completed\n",
            "completed\n",
            "completed\n",
            "completed\n",
            "completed\n",
            "completed\n",
            "completed\n",
            "completed\n",
            "completed\n",
            "completed\n",
            "completed\n",
            "completed\n",
            "completed\n",
            "completed\n",
            "completed\n",
            "completed\n",
            "completed\n",
            "completed\n",
            "completed\n",
            "completed\n",
            "completed\n",
            "completed\n",
            "completed\n",
            "completed\n",
            "completed\n",
            "completed\n",
            "completed\n",
            "completed\n",
            "completed\n",
            "completed\n",
            "completed\n",
            "completed\n",
            "completed\n",
            "completed\n",
            "completed\n",
            "completed\n",
            "completed\n",
            "completed\n",
            "completed\n",
            "completed\n",
            "completed\n",
            "completed\n",
            "completed\n",
            "completed\n",
            "completed\n",
            "completed\n",
            "completed\n",
            "completed\n",
            "completed\n",
            "completed\n",
            "completed\n",
            "completed\n",
            "completed\n",
            "completed\n",
            "completed\n",
            "completed\n",
            "completed\n",
            "completed\n",
            "completed\n",
            "completed\n",
            "completed\n",
            "completed\n",
            "completed\n",
            "completed\n",
            "completed\n",
            "completed\n",
            "completed\n",
            "completed\n",
            "completed\n",
            "completed\n",
            "completed\n",
            "completed\n",
            "completed\n",
            "completed\n",
            "completed\n",
            "completed\n",
            "completed\n",
            "completed\n",
            "completed\n",
            "completed\n",
            "completed\n",
            "completed\n",
            "completed\n",
            "completed\n",
            "completed\n",
            "completed\n",
            "completed\n",
            "completed\n",
            "completed\n",
            "completed\n",
            "completed\n",
            "completed\n",
            "completed\n",
            "completed\n",
            "completed\n",
            "completed\n",
            "completed\n",
            "completed\n",
            "completed\n",
            "completed\n",
            "completed\n",
            "completed\n",
            "completed\n",
            "completed\n",
            "completed\n",
            "completed\n",
            "completed\n",
            "completed\n",
            "completed\n",
            "completed\n",
            "completed\n",
            "completed\n",
            "completed\n",
            "completed\n",
            "completed\n",
            "completed\n",
            "completed\n",
            "completed\n",
            "completed\n",
            "completed\n",
            "completed\n",
            "completed\n",
            "completed\n",
            "completed\n",
            "completed\n",
            "completed\n",
            "completed\n",
            "completed\n",
            "completed\n",
            "completed\n",
            "completed\n",
            "completed\n",
            "completed\n",
            "completed\n",
            "completed\n",
            "completed\n",
            "completed\n",
            "completed\n",
            "completed\n",
            "completed\n",
            "completed\n",
            "completed\n",
            "completed\n",
            "completed\n",
            "completed\n",
            "completed\n",
            "completed\n",
            "completed\n",
            "completed\n",
            "completed\n",
            "completed\n",
            "completed\n",
            "completed\n",
            "completed\n",
            "completed\n"
          ]
        },
        {
          "output_type": "execute_result",
          "data": {
            "text/plain": [
              "{'adenocarcinoma': [PosixPath('/content/drive/My Drive/Data/train/adenocarcinoma/000000 (6).png'),\n",
              "  PosixPath('/content/drive/My Drive/Data/train/adenocarcinoma/000005 (3).png'),\n",
              "  PosixPath('/content/drive/My Drive/Data/train/adenocarcinoma/000005 (9).png'),\n",
              "  PosixPath('/content/drive/My Drive/Data/train/adenocarcinoma/000009 (3).png'),\n",
              "  PosixPath('/content/drive/My Drive/Data/train/adenocarcinoma/000009 (7).png'),\n",
              "  PosixPath('/content/drive/My Drive/Data/train/adenocarcinoma/000008 (10).png'),\n",
              "  PosixPath('/content/drive/My Drive/Data/train/adenocarcinoma/000014 (7).png'),\n",
              "  PosixPath('/content/drive/My Drive/Data/train/adenocarcinoma/000013 (4).png'),\n",
              "  PosixPath('/content/drive/My Drive/Data/train/adenocarcinoma/000013 (8).png'),\n",
              "  PosixPath('/content/drive/My Drive/Data/train/adenocarcinoma/000015 (10).png'),\n",
              "  PosixPath('/content/drive/My Drive/Data/train/adenocarcinoma/000015 (4).png'),\n",
              "  PosixPath('/content/drive/My Drive/Data/train/adenocarcinoma/000015 (9).png'),\n",
              "  PosixPath('/content/drive/My Drive/Data/train/adenocarcinoma/000016 (9).png'),\n",
              "  PosixPath('/content/drive/My Drive/Data/train/adenocarcinoma/000017 (8).png'),\n",
              "  PosixPath('/content/drive/My Drive/Data/train/adenocarcinoma/000017 (6).png'),\n",
              "  PosixPath('/content/drive/My Drive/Data/train/adenocarcinoma/000018 (5).png'),\n",
              "  PosixPath('/content/drive/My Drive/Data/train/adenocarcinoma/000019 (5).png'),\n",
              "  PosixPath('/content/drive/My Drive/Data/train/adenocarcinoma/000020 (10).png'),\n",
              "  PosixPath('/content/drive/My Drive/Data/train/adenocarcinoma/000021 (3).png'),\n",
              "  PosixPath('/content/drive/My Drive/Data/train/adenocarcinoma/000020 (6).png'),\n",
              "  PosixPath('/content/drive/My Drive/Data/train/adenocarcinoma/000020 (5).png'),\n",
              "  PosixPath('/content/drive/My Drive/Data/train/adenocarcinoma/000021 (4).png'),\n",
              "  PosixPath('/content/drive/My Drive/Data/train/adenocarcinoma/000021 (5).png'),\n",
              "  PosixPath('/content/drive/My Drive/Data/train/adenocarcinoma/000021 (8).png'),\n",
              "  PosixPath('/content/drive/My Drive/Data/train/adenocarcinoma/000021 (6).png'),\n",
              "  PosixPath('/content/drive/My Drive/Data/train/adenocarcinoma/000022 (10).png'),\n",
              "  PosixPath('/content/drive/My Drive/Data/train/adenocarcinoma/000022 (2).png'),\n",
              "  PosixPath('/content/drive/My Drive/Data/train/adenocarcinoma/000022 (8).png'),\n",
              "  PosixPath('/content/drive/My Drive/Data/train/adenocarcinoma/000022 (9).png'),\n",
              "  PosixPath('/content/drive/My Drive/Data/train/adenocarcinoma/000023 (10).png'),\n",
              "  PosixPath('/content/drive/My Drive/Data/train/adenocarcinoma/000022.png'),\n",
              "  PosixPath('/content/drive/My Drive/Data/train/adenocarcinoma/000023 (7).png'),\n",
              "  PosixPath('/content/drive/My Drive/Data/train/adenocarcinoma/000023 (5).png'),\n",
              "  PosixPath('/content/drive/My Drive/Data/train/adenocarcinoma/000024 (10).png'),\n",
              "  PosixPath('/content/drive/My Drive/Data/train/adenocarcinoma/000023 (9).png'),\n",
              "  PosixPath('/content/drive/My Drive/Data/train/adenocarcinoma/000024 (7).png'),\n",
              "  PosixPath('/content/drive/My Drive/Data/train/adenocarcinoma/000024.png'),\n",
              "  PosixPath('/content/drive/My Drive/Data/train/adenocarcinoma/000024 (6).png'),\n",
              "  PosixPath('/content/drive/My Drive/Data/train/adenocarcinoma/000026 (10).png'),\n",
              "  PosixPath('/content/drive/My Drive/Data/train/adenocarcinoma/000025 (6).png'),\n",
              "  PosixPath('/content/drive/My Drive/Data/train/adenocarcinoma/000026 (3).png'),\n",
              "  PosixPath('/content/drive/My Drive/Data/train/adenocarcinoma/000027 (6).png'),\n",
              "  PosixPath('/content/drive/My Drive/Data/train/adenocarcinoma/000027 (4).png'),\n",
              "  PosixPath('/content/drive/My Drive/Data/train/adenocarcinoma/000029 (4).png'),\n",
              "  PosixPath('/content/drive/My Drive/Data/train/adenocarcinoma/000029 (5).png'),\n",
              "  PosixPath('/content/drive/My Drive/Data/train/adenocarcinoma/000029 (9).png'),\n",
              "  PosixPath('/content/drive/My Drive/Data/train/adenocarcinoma/000030 (4).png'),\n",
              "  PosixPath('/content/drive/My Drive/Data/train/adenocarcinoma/000031 (3).png'),\n",
              "  PosixPath('/content/drive/My Drive/Data/train/adenocarcinoma/000034 (6).png'),\n",
              "  PosixPath('/content/drive/My Drive/Data/train/adenocarcinoma/000032 (8).png'),\n",
              "  PosixPath('/content/drive/My Drive/Data/train/adenocarcinoma/000033 (9).png'),\n",
              "  PosixPath('/content/drive/My Drive/Data/train/adenocarcinoma/000035 (4).png'),\n",
              "  PosixPath('/content/drive/My Drive/Data/train/adenocarcinoma/000035 (6).png'),\n",
              "  PosixPath('/content/drive/My Drive/Data/train/adenocarcinoma/000035 (5).png'),\n",
              "  PosixPath('/content/drive/My Drive/Data/train/adenocarcinoma/000035 (8).png'),\n",
              "  PosixPath('/content/drive/My Drive/Data/train/adenocarcinoma/000036 (7).png'),\n",
              "  PosixPath('/content/drive/My Drive/Data/train/adenocarcinoma/000036 (6).png'),\n",
              "  PosixPath('/content/drive/My Drive/Data/train/adenocarcinoma/000040 (5).png'),\n",
              "  PosixPath('/content/drive/My Drive/Data/train/adenocarcinoma/000040 (3).png'),\n",
              "  PosixPath('/content/drive/My Drive/Data/train/adenocarcinoma/000040 (10).png'),\n",
              "  PosixPath('/content/drive/My Drive/Data/train/adenocarcinoma/000041 (2).png'),\n",
              "  PosixPath('/content/drive/My Drive/Data/train/adenocarcinoma/000041 (4).png'),\n",
              "  PosixPath('/content/drive/My Drive/Data/train/adenocarcinoma/000041 (7).png'),\n",
              "  PosixPath('/content/drive/My Drive/Data/train/adenocarcinoma/000041 (8).png'),\n",
              "  PosixPath('/content/drive/My Drive/Data/train/adenocarcinoma/000042 (10).png'),\n",
              "  PosixPath('/content/drive/My Drive/Data/train/adenocarcinoma/000046 (5).png'),\n",
              "  PosixPath('/content/drive/My Drive/Data/train/adenocarcinoma/000044 (10).png'),\n",
              "  PosixPath('/content/drive/My Drive/Data/train/adenocarcinoma/000044 (9).png'),\n",
              "  PosixPath('/content/drive/My Drive/Data/train/adenocarcinoma/000048.png'),\n",
              "  PosixPath('/content/drive/My Drive/Data/train/adenocarcinoma/000048 (8).png'),\n",
              "  PosixPath('/content/drive/My Drive/Data/train/adenocarcinoma/000049 (5).png'),\n",
              "  PosixPath('/content/drive/My Drive/Data/train/adenocarcinoma/000049 (9).png'),\n",
              "  PosixPath('/content/drive/My Drive/Data/train/adenocarcinoma/000050 (3).png'),\n",
              "  PosixPath('/content/drive/My Drive/Data/train/adenocarcinoma/000050 (5).png'),\n",
              "  PosixPath('/content/drive/My Drive/Data/train/adenocarcinoma/000050 (8).png'),\n",
              "  PosixPath('/content/drive/My Drive/Data/train/adenocarcinoma/000050 (7).png'),\n",
              "  PosixPath('/content/drive/My Drive/Data/train/adenocarcinoma/000051 (4).png'),\n",
              "  PosixPath('/content/drive/My Drive/Data/train/adenocarcinoma/000051 (3).png'),\n",
              "  PosixPath('/content/drive/My Drive/Data/train/adenocarcinoma/000054 (6).png'),\n",
              "  PosixPath('/content/drive/My Drive/Data/train/adenocarcinoma/000054 (5).png'),\n",
              "  PosixPath('/content/drive/My Drive/Data/train/adenocarcinoma/000052 (10).png'),\n",
              "  PosixPath('/content/drive/My Drive/Data/train/adenocarcinoma/000054.png'),\n",
              "  PosixPath('/content/drive/My Drive/Data/train/adenocarcinoma/000055 (2).png'),\n",
              "  PosixPath('/content/drive/My Drive/Data/train/adenocarcinoma/000054 (7).png'),\n",
              "  PosixPath('/content/drive/My Drive/Data/train/adenocarcinoma/000056 (7).png'),\n",
              "  PosixPath('/content/drive/My Drive/Data/train/adenocarcinoma/000057 (2).png'),\n",
              "  PosixPath('/content/drive/My Drive/Data/train/adenocarcinoma/000057.png'),\n",
              "  PosixPath('/content/drive/My Drive/Data/train/adenocarcinoma/000059 (7).png'),\n",
              "  PosixPath('/content/drive/My Drive/Data/train/adenocarcinoma/000058 (4).png'),\n",
              "  PosixPath('/content/drive/My Drive/Data/train/adenocarcinoma/000058 (5).png'),\n",
              "  PosixPath('/content/drive/My Drive/Data/train/adenocarcinoma/000061.png'),\n",
              "  PosixPath('/content/drive/My Drive/Data/train/adenocarcinoma/000063 (3).png'),\n",
              "  PosixPath('/content/drive/My Drive/Data/train/adenocarcinoma/000063 (7).png'),\n",
              "  PosixPath('/content/drive/My Drive/Data/train/adenocarcinoma/000063 (5).png'),\n",
              "  PosixPath('/content/drive/My Drive/Data/train/adenocarcinoma/000065 (3).png'),\n",
              "  PosixPath('/content/drive/My Drive/Data/train/adenocarcinoma/000065 (8).png'),\n",
              "  PosixPath('/content/drive/My Drive/Data/train/adenocarcinoma/000066 (9).png'),\n",
              "  PosixPath('/content/drive/My Drive/Data/train/adenocarcinoma/000066 (10).png'),\n",
              "  PosixPath('/content/drive/My Drive/Data/train/adenocarcinoma/000065 (9).png'),\n",
              "  PosixPath('/content/drive/My Drive/Data/train/adenocarcinoma/000067 (10).png'),\n",
              "  PosixPath('/content/drive/My Drive/Data/train/adenocarcinoma/000067.png'),\n",
              "  PosixPath('/content/drive/My Drive/Data/train/adenocarcinoma/000068 (10).png'),\n",
              "  PosixPath('/content/drive/My Drive/Data/train/adenocarcinoma/000068 (3).png'),\n",
              "  PosixPath('/content/drive/My Drive/Data/train/adenocarcinoma/000068 (9).png'),\n",
              "  PosixPath('/content/drive/My Drive/Data/train/adenocarcinoma/000071 (3).png'),\n",
              "  PosixPath('/content/drive/My Drive/Data/train/adenocarcinoma/000069 (6).png'),\n",
              "  PosixPath('/content/drive/My Drive/Data/train/adenocarcinoma/000072 (10).png'),\n",
              "  PosixPath('/content/drive/My Drive/Data/train/adenocarcinoma/000074 (5).png'),\n",
              "  PosixPath('/content/drive/My Drive/Data/train/adenocarcinoma/000075 (5).png'),\n",
              "  PosixPath('/content/drive/My Drive/Data/train/adenocarcinoma/000077 (9).png'),\n",
              "  PosixPath('/content/drive/My Drive/Data/train/adenocarcinoma/000077 (6).png'),\n",
              "  PosixPath('/content/drive/My Drive/Data/train/adenocarcinoma/000078 (6).png'),\n",
              "  PosixPath('/content/drive/My Drive/Data/train/adenocarcinoma/000080 (10).png'),\n",
              "  PosixPath('/content/drive/My Drive/Data/train/adenocarcinoma/000079 (6).png'),\n",
              "  PosixPath('/content/drive/My Drive/Data/train/adenocarcinoma/000083 (3).png'),\n",
              "  PosixPath('/content/drive/My Drive/Data/train/adenocarcinoma/000080 (6).png'),\n",
              "  PosixPath('/content/drive/My Drive/Data/train/adenocarcinoma/000081 (2).png'),\n",
              "  PosixPath('/content/drive/My Drive/Data/train/adenocarcinoma/000084 (2).png'),\n",
              "  PosixPath('/content/drive/My Drive/Data/train/adenocarcinoma/000083 (6).png'),\n",
              "  PosixPath('/content/drive/My Drive/Data/train/adenocarcinoma/000084 (7).png'),\n",
              "  PosixPath('/content/drive/My Drive/Data/train/adenocarcinoma/000084 (3).png'),\n",
              "  PosixPath('/content/drive/My Drive/Data/train/adenocarcinoma/000084.png'),\n",
              "  PosixPath('/content/drive/My Drive/Data/train/adenocarcinoma/000085 (10).png'),\n",
              "  PosixPath('/content/drive/My Drive/Data/train/adenocarcinoma/000085 (4).png'),\n",
              "  PosixPath('/content/drive/My Drive/Data/train/adenocarcinoma/000086 (3).png'),\n",
              "  PosixPath('/content/drive/My Drive/Data/train/adenocarcinoma/000085 (7).png'),\n",
              "  PosixPath('/content/drive/My Drive/Data/train/adenocarcinoma/000086 (8).png'),\n",
              "  PosixPath('/content/drive/My Drive/Data/train/adenocarcinoma/000087 (4).png'),\n",
              "  PosixPath('/content/drive/My Drive/Data/train/adenocarcinoma/000090 (2).png'),\n",
              "  PosixPath('/content/drive/My Drive/Data/train/adenocarcinoma/000089 (8).png'),\n",
              "  PosixPath('/content/drive/My Drive/Data/train/adenocarcinoma/000087 (8).png'),\n",
              "  PosixPath('/content/drive/My Drive/Data/train/adenocarcinoma/000091.png'),\n",
              "  PosixPath('/content/drive/My Drive/Data/train/adenocarcinoma/000091 (3).png'),\n",
              "  PosixPath('/content/drive/My Drive/Data/train/adenocarcinoma/000091 (7).png'),\n",
              "  PosixPath('/content/drive/My Drive/Data/train/adenocarcinoma/000093 (10).png'),\n",
              "  PosixPath('/content/drive/My Drive/Data/train/adenocarcinoma/000092 (10).png'),\n",
              "  PosixPath('/content/drive/My Drive/Data/train/adenocarcinoma/000093 (6).png'),\n",
              "  PosixPath('/content/drive/My Drive/Data/train/adenocarcinoma/000093 (4).png'),\n",
              "  PosixPath('/content/drive/My Drive/Data/train/adenocarcinoma/000095 (6).png'),\n",
              "  PosixPath('/content/drive/My Drive/Data/train/adenocarcinoma/000095.png'),\n",
              "  PosixPath('/content/drive/My Drive/Data/train/adenocarcinoma/000096 (7).png'),\n",
              "  PosixPath('/content/drive/My Drive/Data/train/adenocarcinoma/000097 (10).png'),\n",
              "  PosixPath('/content/drive/My Drive/Data/train/adenocarcinoma/000097 (2).png'),\n",
              "  PosixPath('/content/drive/My Drive/Data/train/adenocarcinoma/000097 (3).png'),\n",
              "  PosixPath('/content/drive/My Drive/Data/train/adenocarcinoma/000098 (8).png'),\n",
              "  PosixPath('/content/drive/My Drive/Data/train/adenocarcinoma/000099 (7).png'),\n",
              "  PosixPath('/content/drive/My Drive/Data/train/adenocarcinoma/000098 (5).png'),\n",
              "  PosixPath('/content/drive/My Drive/Data/train/adenocarcinoma/000100 (10).png'),\n",
              "  PosixPath('/content/drive/My Drive/Data/train/adenocarcinoma/000102 (2).png'),\n",
              "  PosixPath('/content/drive/My Drive/Data/train/adenocarcinoma/000101 (7).png'),\n",
              "  PosixPath('/content/drive/My Drive/Data/train/adenocarcinoma/000102 (3).png'),\n",
              "  PosixPath('/content/drive/My Drive/Data/train/adenocarcinoma/000103 (9).png'),\n",
              "  PosixPath('/content/drive/My Drive/Data/train/adenocarcinoma/000102 (7).png'),\n",
              "  PosixPath('/content/drive/My Drive/Data/train/adenocarcinoma/000102.png'),\n",
              "  PosixPath('/content/drive/My Drive/Data/train/adenocarcinoma/000104 (10).png'),\n",
              "  PosixPath('/content/drive/My Drive/Data/train/adenocarcinoma/000104 (4).png'),\n",
              "  PosixPath('/content/drive/My Drive/Data/train/adenocarcinoma/000105 (3).png'),\n",
              "  PosixPath('/content/drive/My Drive/Data/train/adenocarcinoma/000105 (4).png'),\n",
              "  PosixPath('/content/drive/My Drive/Data/train/adenocarcinoma/000105.png'),\n",
              "  PosixPath('/content/drive/My Drive/Data/train/adenocarcinoma/000106 (4).png'),\n",
              "  PosixPath('/content/drive/My Drive/Data/train/adenocarcinoma/000106 (10).png'),\n",
              "  PosixPath('/content/drive/My Drive/Data/train/adenocarcinoma/000107 (9).png'),\n",
              "  PosixPath('/content/drive/My Drive/Data/train/adenocarcinoma/000106 (8).png'),\n",
              "  PosixPath('/content/drive/My Drive/Data/train/adenocarcinoma/000118 (4).png'),\n",
              "  PosixPath('/content/drive/My Drive/Data/train/adenocarcinoma/000118 (6).png'),\n",
              "  PosixPath('/content/drive/My Drive/Data/train/adenocarcinoma/000119 (10).png'),\n",
              "  PosixPath('/content/drive/My Drive/Data/train/adenocarcinoma/000119 (4).png'),\n",
              "  PosixPath('/content/drive/My Drive/Data/train/adenocarcinoma/000119 (5).png'),\n",
              "  PosixPath('/content/drive/My Drive/Data/train/adenocarcinoma/000121 (10).png'),\n",
              "  PosixPath('/content/drive/My Drive/Data/train/adenocarcinoma/000119 (6).png'),\n",
              "  PosixPath('/content/drive/My Drive/Data/train/adenocarcinoma/000121 (9).png'),\n",
              "  PosixPath('/content/drive/My Drive/Data/train/adenocarcinoma/000121.png'),\n",
              "  PosixPath('/content/drive/My Drive/Data/train/adenocarcinoma/ad1.png'),\n",
              "  PosixPath('/content/drive/My Drive/Data/train/adenocarcinoma/000122.png'),\n",
              "  PosixPath('/content/drive/My Drive/Data/train/adenocarcinoma/ad11.png'),\n",
              "  PosixPath('/content/drive/My Drive/Data/train/adenocarcinoma/ad10.png'),\n",
              "  PosixPath('/content/drive/My Drive/Data/train/adenocarcinoma/ad12.png'),\n",
              "  PosixPath('/content/drive/My Drive/Data/train/adenocarcinoma/ad13.png'),\n",
              "  PosixPath('/content/drive/My Drive/Data/train/adenocarcinoma/ad15.png'),\n",
              "  PosixPath('/content/drive/My Drive/Data/train/adenocarcinoma/ad14.png'),\n",
              "  PosixPath('/content/drive/My Drive/Data/train/adenocarcinoma/ad17.png'),\n",
              "  PosixPath('/content/drive/My Drive/Data/train/adenocarcinoma/ad16.png'),\n",
              "  PosixPath('/content/drive/My Drive/Data/train/adenocarcinoma/ad19.png'),\n",
              "  PosixPath('/content/drive/My Drive/Data/train/adenocarcinoma/ad18.png'),\n",
              "  PosixPath('/content/drive/My Drive/Data/train/adenocarcinoma/ad2.png'),\n",
              "  PosixPath('/content/drive/My Drive/Data/train/adenocarcinoma/ad21.png'),\n",
              "  PosixPath('/content/drive/My Drive/Data/train/adenocarcinoma/ad20.png'),\n",
              "  PosixPath('/content/drive/My Drive/Data/train/adenocarcinoma/ad3.png'),\n",
              "  PosixPath('/content/drive/My Drive/Data/train/adenocarcinoma/ad22.png'),\n",
              "  PosixPath('/content/drive/My Drive/Data/train/adenocarcinoma/ad4.png'),\n",
              "  PosixPath('/content/drive/My Drive/Data/train/adenocarcinoma/ad5.png'),\n",
              "  PosixPath('/content/drive/My Drive/Data/train/adenocarcinoma/ad7.png'),\n",
              "  PosixPath('/content/drive/My Drive/Data/train/adenocarcinoma/ad6.png'),\n",
              "  PosixPath('/content/drive/My Drive/Data/train/adenocarcinoma/ad8.png'),\n",
              "  PosixPath('/content/drive/My Drive/Data/train/adenocarcinoma/ad9.png')],\n",
              " 'large_cell_carcinoma': [PosixPath('/content/drive/My Drive/Data/train/large_cell_carcinoma/000002.png'),\n",
              "  PosixPath('/content/drive/My Drive/Data/train/large_cell_carcinoma/000003 (3).png'),\n",
              "  PosixPath('/content/drive/My Drive/Data/train/large_cell_carcinoma/000003 (4).png'),\n",
              "  PosixPath('/content/drive/My Drive/Data/train/large_cell_carcinoma/000009 (4).png'),\n",
              "  PosixPath('/content/drive/My Drive/Data/train/large_cell_carcinoma/000009 (3).png'),\n",
              "  PosixPath('/content/drive/My Drive/Data/train/large_cell_carcinoma/000015.png'),\n",
              "  PosixPath('/content/drive/My Drive/Data/train/large_cell_carcinoma/000010.png'),\n",
              "  PosixPath('/content/drive/My Drive/Data/train/large_cell_carcinoma/000016 (4).png'),\n",
              "  PosixPath('/content/drive/My Drive/Data/train/large_cell_carcinoma/000017.png'),\n",
              "  PosixPath('/content/drive/My Drive/Data/train/large_cell_carcinoma/000016 (3).png'),\n",
              "  PosixPath('/content/drive/My Drive/Data/train/large_cell_carcinoma/000019 (3).png'),\n",
              "  PosixPath('/content/drive/My Drive/Data/train/large_cell_carcinoma/000018 (2).png'),\n",
              "  PosixPath('/content/drive/My Drive/Data/train/large_cell_carcinoma/000020 (3).png'),\n",
              "  PosixPath('/content/drive/My Drive/Data/train/large_cell_carcinoma/000020 (4).png'),\n",
              "  PosixPath('/content/drive/My Drive/Data/train/large_cell_carcinoma/000019 (4).png'),\n",
              "  PosixPath('/content/drive/My Drive/Data/train/large_cell_carcinoma/000023 (2).png'),\n",
              "  PosixPath('/content/drive/My Drive/Data/train/large_cell_carcinoma/000021.png'),\n",
              "  PosixPath('/content/drive/My Drive/Data/train/large_cell_carcinoma/000026 (2).png'),\n",
              "  PosixPath('/content/drive/My Drive/Data/train/large_cell_carcinoma/000024 (2).png'),\n",
              "  PosixPath('/content/drive/My Drive/Data/train/large_cell_carcinoma/000027 (2).png'),\n",
              "  PosixPath('/content/drive/My Drive/Data/train/large_cell_carcinoma/000026.png'),\n",
              "  PosixPath('/content/drive/My Drive/Data/train/large_cell_carcinoma/000031.png'),\n",
              "  PosixPath('/content/drive/My Drive/Data/train/large_cell_carcinoma/000027.png'),\n",
              "  PosixPath('/content/drive/My Drive/Data/train/large_cell_carcinoma/000031 (2).png'),\n",
              "  PosixPath('/content/drive/My Drive/Data/train/large_cell_carcinoma/000032.png'),\n",
              "  PosixPath('/content/drive/My Drive/Data/train/large_cell_carcinoma/000033 (3).png'),\n",
              "  PosixPath('/content/drive/My Drive/Data/train/large_cell_carcinoma/000033 (4).png'),\n",
              "  PosixPath('/content/drive/My Drive/Data/train/large_cell_carcinoma/000034 (2).png'),\n",
              "  PosixPath('/content/drive/My Drive/Data/train/large_cell_carcinoma/000039 (4).png'),\n",
              "  PosixPath('/content/drive/My Drive/Data/train/large_cell_carcinoma/000039 (3).png'),\n",
              "  PosixPath('/content/drive/My Drive/Data/train/large_cell_carcinoma/000040 (2).png'),\n",
              "  PosixPath('/content/drive/My Drive/Data/train/large_cell_carcinoma/000041 (3).png'),\n",
              "  PosixPath('/content/drive/My Drive/Data/train/large_cell_carcinoma/000041.png'),\n",
              "  PosixPath('/content/drive/My Drive/Data/train/large_cell_carcinoma/000042 (2).png'),\n",
              "  PosixPath('/content/drive/My Drive/Data/train/large_cell_carcinoma/000041 (4).png'),\n",
              "  PosixPath('/content/drive/My Drive/Data/train/large_cell_carcinoma/000043 (2).png'),\n",
              "  PosixPath('/content/drive/My Drive/Data/train/large_cell_carcinoma/000046.png'),\n",
              "  PosixPath('/content/drive/My Drive/Data/train/large_cell_carcinoma/000047 (2).png'),\n",
              "  PosixPath('/content/drive/My Drive/Data/train/large_cell_carcinoma/000045.png'),\n",
              "  PosixPath('/content/drive/My Drive/Data/train/large_cell_carcinoma/000055 (4).png'),\n",
              "  PosixPath('/content/drive/My Drive/Data/train/large_cell_carcinoma/000051.png'),\n",
              "  PosixPath('/content/drive/My Drive/Data/train/large_cell_carcinoma/000055 (3).png'),\n",
              "  PosixPath('/content/drive/My Drive/Data/train/large_cell_carcinoma/000056 (3).png'),\n",
              "  PosixPath('/content/drive/My Drive/Data/train/large_cell_carcinoma/000055.png'),\n",
              "  PosixPath('/content/drive/My Drive/Data/train/large_cell_carcinoma/000057 (3).png'),\n",
              "  PosixPath('/content/drive/My Drive/Data/train/large_cell_carcinoma/000056 (4).png'),\n",
              "  PosixPath('/content/drive/My Drive/Data/train/large_cell_carcinoma/000058 (3).png'),\n",
              "  PosixPath('/content/drive/My Drive/Data/train/large_cell_carcinoma/000057 (4).png'),\n",
              "  PosixPath('/content/drive/My Drive/Data/train/large_cell_carcinoma/000057.png'),\n",
              "  PosixPath('/content/drive/My Drive/Data/train/large_cell_carcinoma/000058 (4).png'),\n",
              "  PosixPath('/content/drive/My Drive/Data/train/large_cell_carcinoma/000059 (4).png'),\n",
              "  PosixPath('/content/drive/My Drive/Data/train/large_cell_carcinoma/000059 (3).png'),\n",
              "  PosixPath('/content/drive/My Drive/Data/train/large_cell_carcinoma/000060.png'),\n",
              "  PosixPath('/content/drive/My Drive/Data/train/large_cell_carcinoma/000062 (3).png'),\n",
              "  PosixPath('/content/drive/My Drive/Data/train/large_cell_carcinoma/000062 (2).png'),\n",
              "  PosixPath('/content/drive/My Drive/Data/train/large_cell_carcinoma/000062.png'),\n",
              "  PosixPath('/content/drive/My Drive/Data/train/large_cell_carcinoma/000062 (4).png'),\n",
              "  PosixPath('/content/drive/My Drive/Data/train/large_cell_carcinoma/000063.png'),\n",
              "  PosixPath('/content/drive/My Drive/Data/train/large_cell_carcinoma/000063 (2).png'),\n",
              "  PosixPath('/content/drive/My Drive/Data/train/large_cell_carcinoma/000065 (2).png'),\n",
              "  PosixPath('/content/drive/My Drive/Data/train/large_cell_carcinoma/000066 (2).png'),\n",
              "  PosixPath('/content/drive/My Drive/Data/train/large_cell_carcinoma/000066.png'),\n",
              "  PosixPath('/content/drive/My Drive/Data/train/large_cell_carcinoma/000068 (3).png'),\n",
              "  PosixPath('/content/drive/My Drive/Data/train/large_cell_carcinoma/000068.png'),\n",
              "  PosixPath('/content/drive/My Drive/Data/train/large_cell_carcinoma/000068 (4).png'),\n",
              "  PosixPath('/content/drive/My Drive/Data/train/large_cell_carcinoma/000069.png'),\n",
              "  PosixPath('/content/drive/My Drive/Data/train/large_cell_carcinoma/000071 (2).png'),\n",
              "  PosixPath('/content/drive/My Drive/Data/train/large_cell_carcinoma/000072 (2).png'),\n",
              "  PosixPath('/content/drive/My Drive/Data/train/large_cell_carcinoma/000073 (2).png'),\n",
              "  PosixPath('/content/drive/My Drive/Data/train/large_cell_carcinoma/000076 (3).png'),\n",
              "  PosixPath('/content/drive/My Drive/Data/train/large_cell_carcinoma/000076 (4).png'),\n",
              "  PosixPath('/content/drive/My Drive/Data/train/large_cell_carcinoma/000078 (3).png'),\n",
              "  PosixPath('/content/drive/My Drive/Data/train/large_cell_carcinoma/000077.png'),\n",
              "  PosixPath('/content/drive/My Drive/Data/train/large_cell_carcinoma/000080.png'),\n",
              "  PosixPath('/content/drive/My Drive/Data/train/large_cell_carcinoma/000078 (4).png'),\n",
              "  PosixPath('/content/drive/My Drive/Data/train/large_cell_carcinoma/000084 (2).png'),\n",
              "  PosixPath('/content/drive/My Drive/Data/train/large_cell_carcinoma/000081.png'),\n",
              "  PosixPath('/content/drive/My Drive/Data/train/large_cell_carcinoma/000084.png'),\n",
              "  PosixPath('/content/drive/My Drive/Data/train/large_cell_carcinoma/000089.png'),\n",
              "  PosixPath('/content/drive/My Drive/Data/train/large_cell_carcinoma/000093 (3).png'),\n",
              "  PosixPath('/content/drive/My Drive/Data/train/large_cell_carcinoma/000093 (4).png'),\n",
              "  PosixPath('/content/drive/My Drive/Data/train/large_cell_carcinoma/000094 (2).png'),\n",
              "  PosixPath('/content/drive/My Drive/Data/train/large_cell_carcinoma/000094 (4) (1).png'),\n",
              "  PosixPath('/content/drive/My Drive/Data/train/large_cell_carcinoma/000094 (3).png'),\n",
              "  PosixPath('/content/drive/My Drive/Data/train/large_cell_carcinoma/000094 (4).png'),\n",
              "  PosixPath('/content/drive/My Drive/Data/train/large_cell_carcinoma/000095 (3) (1).png'),\n",
              "  PosixPath('/content/drive/My Drive/Data/train/large_cell_carcinoma/000095 (3).png'),\n",
              "  PosixPath('/content/drive/My Drive/Data/train/large_cell_carcinoma/000095 (2) (1).png'),\n",
              "  PosixPath('/content/drive/My Drive/Data/train/large_cell_carcinoma/000095 (2).png'),\n",
              "  PosixPath('/content/drive/My Drive/Data/train/large_cell_carcinoma/000095 (4) (1).png'),\n",
              "  PosixPath('/content/drive/My Drive/Data/train/large_cell_carcinoma/000095 (4).png'),\n",
              "  PosixPath('/content/drive/My Drive/Data/train/large_cell_carcinoma/000095 (1).png'),\n",
              "  PosixPath('/content/drive/My Drive/Data/train/large_cell_carcinoma/000095.png'),\n",
              "  PosixPath('/content/drive/My Drive/Data/train/large_cell_carcinoma/000097 (2) (1).png'),\n",
              "  PosixPath('/content/drive/My Drive/Data/train/large_cell_carcinoma/000097 (1).png'),\n",
              "  PosixPath('/content/drive/My Drive/Data/train/large_cell_carcinoma/000098 (3) (1).png'),\n",
              "  PosixPath('/content/drive/My Drive/Data/train/large_cell_carcinoma/000097.png'),\n",
              "  PosixPath('/content/drive/My Drive/Data/train/large_cell_carcinoma/000098 (3).png'),\n",
              "  PosixPath('/content/drive/My Drive/Data/train/large_cell_carcinoma/000097 (2).png'),\n",
              "  PosixPath('/content/drive/My Drive/Data/train/large_cell_carcinoma/000104 (2).png'),\n",
              "  PosixPath('/content/drive/My Drive/Data/train/large_cell_carcinoma/000098 (4).png'),\n",
              "  PosixPath('/content/drive/My Drive/Data/train/large_cell_carcinoma/000104.png'),\n",
              "  PosixPath('/content/drive/My Drive/Data/train/large_cell_carcinoma/000105 (2).png'),\n",
              "  PosixPath('/content/drive/My Drive/Data/train/large_cell_carcinoma/000105.png'),\n",
              "  PosixPath('/content/drive/My Drive/Data/train/large_cell_carcinoma/000106 (2).png'),\n",
              "  PosixPath('/content/drive/My Drive/Data/train/large_cell_carcinoma/000106.png'),\n",
              "  PosixPath('/content/drive/My Drive/Data/train/large_cell_carcinoma/000133.png'),\n",
              "  PosixPath('/content/drive/My Drive/Data/train/large_cell_carcinoma/000137.png'),\n",
              "  PosixPath('/content/drive/My Drive/Data/train/large_cell_carcinoma/000143.png'),\n",
              "  PosixPath('/content/drive/My Drive/Data/train/large_cell_carcinoma/000154.png'),\n",
              "  PosixPath('/content/drive/My Drive/Data/train/large_cell_carcinoma/000149.png'),\n",
              "  PosixPath('/content/drive/My Drive/Data/train/large_cell_carcinoma/000150.png'),\n",
              "  PosixPath('/content/drive/My Drive/Data/train/large_cell_carcinoma/000169.png'),\n",
              "  PosixPath('/content/drive/My Drive/Data/train/large_cell_carcinoma/000159.png'),\n",
              "  PosixPath('/content/drive/My Drive/Data/train/large_cell_carcinoma/000172.png'),\n",
              "  PosixPath('/content/drive/My Drive/Data/train/large_cell_carcinoma/000173.png'),\n",
              "  PosixPath('/content/drive/My Drive/Data/train/large_cell_carcinoma/di1.png'),\n",
              "  PosixPath('/content/drive/My Drive/Data/train/large_cell_carcinoma/l1.png'),\n",
              "  PosixPath('/content/drive/My Drive/Data/train/large_cell_carcinoma/l2.png'),\n",
              "  PosixPath('/content/drive/My Drive/Data/train/large_cell_carcinoma/l3.png'),\n",
              "  PosixPath('/content/drive/My Drive/Data/train/large_cell_carcinoma/l4.png'),\n",
              "  PosixPath('/content/drive/My Drive/Data/train/large_cell_carcinoma/l6.png'),\n",
              "  PosixPath('/content/drive/My Drive/Data/train/large_cell_carcinoma/l5.png')],\n",
              " 'normal': [PosixPath('/content/drive/My Drive/Data/train/normal/10 (2).png'),\n",
              "  PosixPath('/content/drive/My Drive/Data/train/normal/10 - Copy (2) - Copy.png'),\n",
              "  PosixPath('/content/drive/My Drive/Data/train/normal/10 (2) - Copy.png'),\n",
              "  PosixPath('/content/drive/My Drive/Data/train/normal/10 - Copy (2).png'),\n",
              "  PosixPath('/content/drive/My Drive/Data/train/normal/10 - Copy (3).png'),\n",
              "  PosixPath('/content/drive/My Drive/Data/train/normal/10 - Copy.png'),\n",
              "  PosixPath('/content/drive/My Drive/Data/train/normal/10 - Copy - Copy.png'),\n",
              "  PosixPath('/content/drive/My Drive/Data/train/normal/11 (2) - Copy.png'),\n",
              "  PosixPath('/content/drive/My Drive/Data/train/normal/10.png'),\n",
              "  PosixPath('/content/drive/My Drive/Data/train/normal/11 - Copy (2) - Copy.png'),\n",
              "  PosixPath('/content/drive/My Drive/Data/train/normal/11 (2).png'),\n",
              "  PosixPath('/content/drive/My Drive/Data/train/normal/11 - Copy (2).png'),\n",
              "  PosixPath('/content/drive/My Drive/Data/train/normal/11 - Copy - Copy.png'),\n",
              "  PosixPath('/content/drive/My Drive/Data/train/normal/11 - Copy.png'),\n",
              "  PosixPath('/content/drive/My Drive/Data/train/normal/11 - Copy (3).png'),\n",
              "  PosixPath('/content/drive/My Drive/Data/train/normal/11.png'),\n",
              "  PosixPath('/content/drive/My Drive/Data/train/normal/12 (2) - Copy.png'),\n",
              "  PosixPath('/content/drive/My Drive/Data/train/normal/12 - Copy (2) - Copy.png'),\n",
              "  PosixPath('/content/drive/My Drive/Data/train/normal/12 (2).png'),\n",
              "  PosixPath('/content/drive/My Drive/Data/train/normal/12 - Copy (2).png'),\n",
              "  PosixPath('/content/drive/My Drive/Data/train/normal/12 - Copy.png'),\n",
              "  PosixPath('/content/drive/My Drive/Data/train/normal/12 - Copy - Copy.png'),\n",
              "  PosixPath('/content/drive/My Drive/Data/train/normal/12 - Copy (3).png'),\n",
              "  PosixPath('/content/drive/My Drive/Data/train/normal/12.png'),\n",
              "  PosixPath('/content/drive/My Drive/Data/train/normal/13 (2).png'),\n",
              "  PosixPath('/content/drive/My Drive/Data/train/normal/13 (2) - Copy.png'),\n",
              "  PosixPath('/content/drive/My Drive/Data/train/normal/13 - Copy (2).png'),\n",
              "  PosixPath('/content/drive/My Drive/Data/train/normal/13 - Copy (2) - Copy.png'),\n",
              "  PosixPath('/content/drive/My Drive/Data/train/normal/13 - Copy (3).png'),\n",
              "  PosixPath('/content/drive/My Drive/Data/train/normal/13 - Copy - Copy.png'),\n",
              "  PosixPath('/content/drive/My Drive/Data/train/normal/13 - Copy.png'),\n",
              "  PosixPath('/content/drive/My Drive/Data/train/normal/16 (2) - Copy.png'),\n",
              "  PosixPath('/content/drive/My Drive/Data/train/normal/13.png'),\n",
              "  PosixPath('/content/drive/My Drive/Data/train/normal/16 - Copy (2) - Copy.png'),\n",
              "  PosixPath('/content/drive/My Drive/Data/train/normal/16 (2).png'),\n",
              "  PosixPath('/content/drive/My Drive/Data/train/normal/16 - Copy (3).png'),\n",
              "  PosixPath('/content/drive/My Drive/Data/train/normal/16 - Copy (2).png'),\n",
              "  PosixPath('/content/drive/My Drive/Data/train/normal/16 - Copy - Copy.png'),\n",
              "  PosixPath('/content/drive/My Drive/Data/train/normal/16 - Copy.png'),\n",
              "  PosixPath('/content/drive/My Drive/Data/train/normal/16.png'),\n",
              "  PosixPath('/content/drive/My Drive/Data/train/normal/17 (2) - Copy.png'),\n",
              "  PosixPath('/content/drive/My Drive/Data/train/normal/17 (2).png'),\n",
              "  PosixPath('/content/drive/My Drive/Data/train/normal/17 - Copy (2) - Copy.png'),\n",
              "  PosixPath('/content/drive/My Drive/Data/train/normal/17 - Copy (3).png'),\n",
              "  PosixPath('/content/drive/My Drive/Data/train/normal/17 - Copy (2).png'),\n",
              "  PosixPath('/content/drive/My Drive/Data/train/normal/17 - Copy - Copy.png'),\n",
              "  PosixPath('/content/drive/My Drive/Data/train/normal/17.png'),\n",
              "  PosixPath('/content/drive/My Drive/Data/train/normal/17 - Copy.png'),\n",
              "  PosixPath('/content/drive/My Drive/Data/train/normal/18 (2).png'),\n",
              "  PosixPath('/content/drive/My Drive/Data/train/normal/18 (2) - Copy.png'),\n",
              "  PosixPath('/content/drive/My Drive/Data/train/normal/18 - Copy (2) - Copy.png'),\n",
              "  PosixPath('/content/drive/My Drive/Data/train/normal/18 - Copy (2).png'),\n",
              "  PosixPath('/content/drive/My Drive/Data/train/normal/18 - Copy (3).png'),\n",
              "  PosixPath('/content/drive/My Drive/Data/train/normal/18 - Copy - Copy.png'),\n",
              "  PosixPath('/content/drive/My Drive/Data/train/normal/18 - Copy.png'),\n",
              "  PosixPath('/content/drive/My Drive/Data/train/normal/18.png'),\n",
              "  PosixPath('/content/drive/My Drive/Data/train/normal/19 (2).png'),\n",
              "  PosixPath('/content/drive/My Drive/Data/train/normal/19 (2) - Copy.png'),\n",
              "  PosixPath('/content/drive/My Drive/Data/train/normal/19 - Copy (2).png'),\n",
              "  PosixPath('/content/drive/My Drive/Data/train/normal/19 - Copy (2) - Copy.png'),\n",
              "  PosixPath('/content/drive/My Drive/Data/train/normal/19 - Copy (3).png'),\n",
              "  PosixPath('/content/drive/My Drive/Data/train/normal/19 - Copy - Copy.png'),\n",
              "  PosixPath('/content/drive/My Drive/Data/train/normal/19.png'),\n",
              "  PosixPath('/content/drive/My Drive/Data/train/normal/19 - Copy.png'),\n",
              "  PosixPath('/content/drive/My Drive/Data/train/normal/2 - Copy (2) - Copy.png'),\n",
              "  PosixPath('/content/drive/My Drive/Data/train/normal/2 (2).png'),\n",
              "  PosixPath('/content/drive/My Drive/Data/train/normal/2 (2) - Copy.png'),\n",
              "  PosixPath('/content/drive/My Drive/Data/train/normal/2 - Copy (2).png'),\n",
              "  PosixPath('/content/drive/My Drive/Data/train/normal/2 - Copy - Copy.png'),\n",
              "  PosixPath('/content/drive/My Drive/Data/train/normal/2 - Copy (3).png'),\n",
              "  PosixPath('/content/drive/My Drive/Data/train/normal/2.png'),\n",
              "  PosixPath('/content/drive/My Drive/Data/train/normal/2 - Copy.png'),\n",
              "  PosixPath('/content/drive/My Drive/Data/train/normal/20 (2) - Copy.png'),\n",
              "  PosixPath('/content/drive/My Drive/Data/train/normal/20 (2).png'),\n",
              "  PosixPath('/content/drive/My Drive/Data/train/normal/20 - Copy (2) - Copy.png'),\n",
              "  PosixPath('/content/drive/My Drive/Data/train/normal/20 - Copy (3).png'),\n",
              "  PosixPath('/content/drive/My Drive/Data/train/normal/20 - Copy - Copy.png'),\n",
              "  PosixPath('/content/drive/My Drive/Data/train/normal/20 - Copy (2).png'),\n",
              "  PosixPath('/content/drive/My Drive/Data/train/normal/20.png'),\n",
              "  PosixPath('/content/drive/My Drive/Data/train/normal/21 - Copy (2) - Copy.png'),\n",
              "  PosixPath('/content/drive/My Drive/Data/train/normal/20 - Copy.png'),\n",
              "  PosixPath('/content/drive/My Drive/Data/train/normal/21 - Copy - Copy.png'),\n",
              "  PosixPath('/content/drive/My Drive/Data/train/normal/21 - Copy (2).png'),\n",
              "  PosixPath('/content/drive/My Drive/Data/train/normal/21 - Copy.png'),\n",
              "  PosixPath('/content/drive/My Drive/Data/train/normal/3 (2).png'),\n",
              "  PosixPath('/content/drive/My Drive/Data/train/normal/3 (2) - Copy.png'),\n",
              "  PosixPath('/content/drive/My Drive/Data/train/normal/3 - Copy (2).png'),\n",
              "  PosixPath('/content/drive/My Drive/Data/train/normal/3 - Copy (2) - Copy.png'),\n",
              "  PosixPath('/content/drive/My Drive/Data/train/normal/3 - Copy - Copy.png'),\n",
              "  PosixPath('/content/drive/My Drive/Data/train/normal/3 - Copy (3).png'),\n",
              "  PosixPath('/content/drive/My Drive/Data/train/normal/3 - Copy.png'),\n",
              "  PosixPath('/content/drive/My Drive/Data/train/normal/3.png'),\n",
              "  PosixPath('/content/drive/My Drive/Data/train/normal/4 (2).png'),\n",
              "  PosixPath('/content/drive/My Drive/Data/train/normal/4 (2) - Copy.png'),\n",
              "  PosixPath('/content/drive/My Drive/Data/train/normal/4 - Copy (2).png'),\n",
              "  PosixPath('/content/drive/My Drive/Data/train/normal/4 - Copy (2) - Copy.png'),\n",
              "  PosixPath('/content/drive/My Drive/Data/train/normal/4 - Copy (3).png'),\n",
              "  PosixPath('/content/drive/My Drive/Data/train/normal/4 - Copy - Copy.png'),\n",
              "  PosixPath('/content/drive/My Drive/Data/train/normal/4 - Copy.png'),\n",
              "  PosixPath('/content/drive/My Drive/Data/train/normal/4.png'),\n",
              "  PosixPath('/content/drive/My Drive/Data/train/normal/5 (2).png'),\n",
              "  PosixPath('/content/drive/My Drive/Data/train/normal/5 (2) - Copy.png'),\n",
              "  PosixPath('/content/drive/My Drive/Data/train/normal/5 - Copy (2).png'),\n",
              "  PosixPath('/content/drive/My Drive/Data/train/normal/5 - Copy (2) - Copy.png'),\n",
              "  PosixPath('/content/drive/My Drive/Data/train/normal/5 - Copy.png'),\n",
              "  PosixPath('/content/drive/My Drive/Data/train/normal/5 - Copy - Copy.png'),\n",
              "  PosixPath('/content/drive/My Drive/Data/train/normal/5 - Copy (3).png'),\n",
              "  PosixPath('/content/drive/My Drive/Data/train/normal/5.png'),\n",
              "  PosixPath('/content/drive/My Drive/Data/train/normal/6 (2) - Copy.png'),\n",
              "  PosixPath('/content/drive/My Drive/Data/train/normal/6 (2).png'),\n",
              "  PosixPath('/content/drive/My Drive/Data/train/normal/6 - Copy (2) - Copy.png'),\n",
              "  PosixPath('/content/drive/My Drive/Data/train/normal/6 - Copy (2).png'),\n",
              "  PosixPath('/content/drive/My Drive/Data/train/normal/6 - Copy (3).png'),\n",
              "  PosixPath('/content/drive/My Drive/Data/train/normal/6 - Copy - Copy.png'),\n",
              "  PosixPath('/content/drive/My Drive/Data/train/normal/6 - Copy.png'),\n",
              "  PosixPath('/content/drive/My Drive/Data/train/normal/7 (2) - Copy.png'),\n",
              "  PosixPath('/content/drive/My Drive/Data/train/normal/6.png'),\n",
              "  PosixPath('/content/drive/My Drive/Data/train/normal/7 (2).png'),\n",
              "  PosixPath('/content/drive/My Drive/Data/train/normal/7 - Copy (2) - Copy.png'),\n",
              "  PosixPath('/content/drive/My Drive/Data/train/normal/7 - Copy (3).png'),\n",
              "  PosixPath('/content/drive/My Drive/Data/train/normal/7 - Copy (2).png'),\n",
              "  PosixPath('/content/drive/My Drive/Data/train/normal/7 - Copy.png'),\n",
              "  PosixPath('/content/drive/My Drive/Data/train/normal/7 - Copy - Copy.png'),\n",
              "  PosixPath('/content/drive/My Drive/Data/train/normal/7.png'),\n",
              "  PosixPath('/content/drive/My Drive/Data/train/normal/8 (2).png'),\n",
              "  PosixPath('/content/drive/My Drive/Data/train/normal/8 (2) - Copy.png'),\n",
              "  PosixPath('/content/drive/My Drive/Data/train/normal/8 - Copy (2).png'),\n",
              "  PosixPath('/content/drive/My Drive/Data/train/normal/8 - Copy (2) - Copy.png'),\n",
              "  PosixPath('/content/drive/My Drive/Data/train/normal/8 - Copy - Copy.png'),\n",
              "  PosixPath('/content/drive/My Drive/Data/train/normal/8 - Copy (3).png'),\n",
              "  PosixPath('/content/drive/My Drive/Data/train/normal/8.png'),\n",
              "  PosixPath('/content/drive/My Drive/Data/train/normal/8 - Copy.png'),\n",
              "  PosixPath('/content/drive/My Drive/Data/train/normal/n7 - Copy.png'),\n",
              "  PosixPath('/content/drive/My Drive/Data/train/normal/n7 (2).png'),\n",
              "  PosixPath('/content/drive/My Drive/Data/train/normal/n7 (2) - Copy.png'),\n",
              "  PosixPath('/content/drive/My Drive/Data/train/normal/n7.png')],\n",
              " 'squamous_cell_carcinoma': []}"
            ]
          },
          "metadata": {},
          "execution_count": 12
        }
      ],
      "source": [
        "#resizing and creating labels using computer vision\n",
        "resized,labels=[],[]\n",
        "for lung_name,images in lung_images_dict.items():\n",
        "    for image in images:\n",
        "        print(\"completed\")\n",
        "        img=cv2.imread(str(image))\n",
        "        resized_image=cv2.resize(img,(224,224))\n",
        "        resized.append(resized_image)\n",
        "        labels.append(keys.index(lung_name))\n",
        "lung_images_dict"
      ]
    },
    {
      "cell_type": "code",
      "execution_count": null,
      "metadata": {
        "id": "zPBxcxuZ75F6"
      },
      "outputs": [],
      "source": [
        "#function to print images\n",
        "def print_image(i,j):\n",
        "    plt.imshow(i)\n",
        "    plt.title(keys[j])"
      ]
    },
    {
      "cell_type": "code",
      "execution_count": null,
      "metadata": {
        "id": "xYknOTgC75F6"
      },
      "outputs": [],
      "source": [
        "#splitting data into train and test\n",
        "#if any integer is given to random_state it will generate and give same set of data each time we run the code and if we give\n",
        "#None different sequences will be generated\n",
        "from sklearn.model_selection import train_test_split\n",
        "x_train,x_test,y_train,y_test=train_test_split(resized,labels,test_size=0.25,random_state=0)"
      ]
    },
    {
      "cell_type": "code",
      "execution_count": null,
      "metadata": {
        "id": "b4KuqDaU75F6",
        "colab": {
          "base_uri": "https://localhost:8080/",
          "height": 452
        },
        "outputId": "e36abdf3-0d50-4e13-ce87-f174ccd787d4"
      },
      "outputs": [
        {
          "output_type": "display_data",
          "data": {
            "text/plain": [
              "<Figure size 640x480 with 1 Axes>"
            ],
            "image/png": "[encoded data removed]"
          },
          "metadata": {}
        }
      ],
      "source": [
        "print_image(x_train[15],y_train[15])"
      ]
    },
    {
      "cell_type": "code",
      "execution_count": null,
      "metadata": {
        "id": "_0AG6lnE75F6",
        "colab": {
          "base_uri": "https://localhost:8080/",
          "height": 452
        },
        "outputId": "724ee3c2-5044-49a5-f8e0-e7a0e8d338af"
      },
      "outputs": [
        {
          "output_type": "display_data",
          "data": {
            "text/plain": [
              "<Figure size 640x480 with 1 Axes>"
            ],
            "image/png": "[encoded data removed]"
          },
          "metadata": {}
        }
      ],
      "source": [
        "print_image(x_test[6],y_test[6])"
      ]
    },
    {
      "cell_type": "code",
      "execution_count": null,
      "metadata": {
        "id": "J4Dl2oWK75F7"
      },
      "outputs": [],
      "source": [
        "#normalizing data\n",
        "x_train_scaled=np.array(x_train)/255\n",
        "x_test_scaled=np.array(x_test)/255"
      ]
    },
    {
      "cell_type": "code",
      "execution_count": null,
      "metadata": {
        "id": "cggoRc9N75F7",
        "colab": {
          "base_uri": "https://localhost:8080/"
        },
        "outputId": "511e4594-8d4b-44b9-c2f8-e0484349b739"
      },
      "outputs": [
        {
          "output_type": "execute_result",
          "data": {
            "text/plain": [
              "(340, 224, 224, 3)"
            ]
          },
          "metadata": {},
          "execution_count": 18
        }
      ],
      "source": [
        "x_train_scaled.shape"
      ]
    },
    {
      "cell_type": "code",
      "execution_count": null,
      "metadata": {
        "id": "LiE2vKEe75F7",
        "colab": {
          "base_uri": "https://localhost:8080/"
        },
        "outputId": "76ffdec2-ee1b-44ea-8433-361f10a3bb71"
      },
      "outputs": [
        {
          "output_type": "execute_result",
          "data": {
            "text/plain": [
              "(340,)"
            ]
          },
          "metadata": {},
          "execution_count": 19
        }
      ],
      "source": [
        "y_train=np.array(y_train)\n",
        "y_train.shape"
      ]
    },
    {
      "cell_type": "raw",
      "metadata": {
        "id": "ICZhPT9z75F8"
      },
      "source": [
        ":#Simple CNN Model"
      ]
    },
    {
      "cell_type": "code",
      "execution_count": null,
      "metadata": {
        "id": "Wh6tmoYG75F8"
      },
      "outputs": [],
      "source": [
        "model=models.Sequential([\n",
        "    layers.Conv2D(16,3,padding='same',activation='relu'),\n",
        "    layers.MaxPooling2D(),\n",
        "    layers.Flatten(),\n",
        "    layers.Dense(200,activation=\"relu\"),\n",
        "    layers.Dense(4,activation=\"softmax\")])\n",
        "model.compile(\n",
        "optimizer=\"adam\",loss=\"sparse_categorical_crossentropy\",metrics=[\"accuracy\"])"
      ]
    },
    {
      "cell_type": "code",
      "execution_count": null,
      "metadata": {
        "id": "9y3zn-Y775F8",
        "colab": {
          "base_uri": "https://localhost:8080/"
        },
        "outputId": "2bb1efda-2769-4fbd-f70e-2a54d9aae2ca"
      },
      "outputs": [
        {
          "output_type": "stream",
          "name": "stdout",
          "text": [
            "Epoch 1/10\n",
            "\u001b[1m11/11\u001b[0m \u001b[32m━━━━━━━━━━━━━━━━━━━━\u001b[0m\u001b[37m\u001b[0m \u001b[1m26s\u001b[0m 2s/step - accuracy: 0.3836 - loss: 13.6037\n",
            "Epoch 2/10\n",
            "\u001b[1m11/11\u001b[0m \u001b[32m━━━━━━━━━━━━━━━━━━━━\u001b[0m\u001b[37m\u001b[0m \u001b[1m16s\u001b[0m 1s/step - accuracy: 0.6356 - loss: 2.0293\n",
            "Epoch 3/10\n",
            "\u001b[1m11/11\u001b[0m \u001b[32m━━━━━━━━━━━━━━━━━━━━\u001b[0m\u001b[37m\u001b[0m \u001b[1m16s\u001b[0m 2s/step - accuracy: 0.7934 - loss: 0.6654\n",
            "Epoch 4/10\n",
            "\u001b[1m11/11\u001b[0m \u001b[32m━━━━━━━━━━━━━━━━━━━━\u001b[0m\u001b[37m\u001b[0m \u001b[1m22s\u001b[0m 2s/step - accuracy: 0.8783 - loss: 0.2954\n",
            "Epoch 5/10\n",
            "\u001b[1m11/11\u001b[0m \u001b[32m━━━━━━━━━━━━━━━━━━━━\u001b[0m\u001b[37m\u001b[0m \u001b[1m19s\u001b[0m 2s/step - accuracy: 0.9337 - loss: 0.1408\n",
            "Epoch 6/10\n",
            "\u001b[1m11/11\u001b[0m \u001b[32m━━━━━━━━━━━━━━━━━━━━\u001b[0m\u001b[37m\u001b[0m \u001b[1m20s\u001b[0m 2s/step - accuracy: 0.9973 - loss: 0.0378\n",
            "Epoch 7/10\n",
            "\u001b[1m11/11\u001b[0m \u001b[32m━━━━━━━━━━━━━━━━━━━━\u001b[0m\u001b[37m\u001b[0m \u001b[1m21s\u001b[0m 2s/step - accuracy: 1.0000 - loss: 0.0230\n",
            "Epoch 8/10\n",
            "\u001b[1m11/11\u001b[0m \u001b[32m━━━━━━━━━━━━━━━━━━━━\u001b[0m\u001b[37m\u001b[0m \u001b[1m20s\u001b[0m 2s/step - accuracy: 1.0000 - loss: 0.0128\n",
            "Epoch 9/10\n",
            "\u001b[1m11/11\u001b[0m \u001b[32m━━━━━━━━━━━━━━━━━━━━\u001b[0m\u001b[37m\u001b[0m \u001b[1m20s\u001b[0m 2s/step - accuracy: 1.0000 - loss: 0.0134\n",
            "Epoch 10/10\n",
            "\u001b[1m11/11\u001b[0m \u001b[32m━━━━━━━━━━━━━━━━━━━━\u001b[0m\u001b[37m\u001b[0m \u001b[1m21s\u001b[0m 1s/step - accuracy: 1.0000 - loss: 0.0075\n"
          ]
        },
        {
          "output_type": "execute_result",
          "data": {
            "text/plain": [
              "<keras.src.callbacks.history.History at 0x7db1d5c9f520>"
            ]
          },
          "metadata": {},
          "execution_count": 21
        }
      ],
      "source": [
        "model.fit(x_train_scaled,np.array(y_train),epochs=10)"
      ]
    },
    {
      "cell_type": "code",
      "execution_count": null,
      "metadata": {
        "id": "qrMxlm3n75F8",
        "colab": {
          "base_uri": "https://localhost:8080/"
        },
        "outputId": "f9196b54-4638-4d68-d561-190b938d31dc"
      },
      "outputs": [
        {
          "output_type": "stream",
          "name": "stdout",
          "text": [
            "\u001b[1m4/4\u001b[0m \u001b[32m━━━━━━━━━━━━━━━━━━━━\u001b[0m\u001b[37m\u001b[0m \u001b[1m1s\u001b[0m 275ms/step - accuracy: 0.9024 - loss: 0.2563\n"
          ]
        },
        {
          "output_type": "execute_result",
          "data": {
            "text/plain": [
              "[0.24841469526290894, 0.9122806787490845]"
            ]
          },
          "metadata": {},
          "execution_count": 22
        }
      ],
      "source": [
        "model.evaluate(x_test_scaled,np.array(y_test))"
      ]
    },
    {
      "source": [
        "import tensorflow as tf\n",
        "from tensorflow import keras\n",
        "from tensorflow.keras import layers, models\n",
        "\n",
        "\n",
        "model1=models.Sequential([\n",
        "    tf.keras.layers.RandomZoom(0.3), # Use tf.keras.layers.RandomZoom directly\n",
        "    layers.Conv2D(16,3,padding='same',activation='relu'),\n",
        "    layers.MaxPooling2D(),\n",
        "    layers.Conv2D(16,3,padding='same',activation='relu'),\n",
        "    layers.Flatten(),\n",
        "    layers.Dense(128,activation=\"relu\"),\n",
        "    layers.Dropout(0.6),\n",
        "    layers.Dense(512,activation=\"relu\"),\n",
        "    layers.Dropout(0.3),\n",
        "    layers.Dense(4,activation=\"softmax\")\n",
        "    #layers.Dense(2,kernel_regularizer=l2(0.01),activation=\"softmax\")\n",
        "])\n",
        "model1.compile(\n",
        "optimizer=\"adam\",loss=\"sparse_categorical_crossentropy\",metrics=[\"accuracy\"])"
      ],
      "cell_type": "code",
      "metadata": {
        "id": "eo0tGK5y20-m"
      },
      "execution_count": null,
      "outputs": []
    },
    {
      "cell_type": "code",
      "execution_count": null,
      "metadata": {
        "id": "SjBeLswr75F9",
        "colab": {
          "base_uri": "https://localhost:8080/"
        },
        "outputId": "cd95eba9-9270-477b-dbdb-ad68fdff2fcb"
      },
      "outputs": [
        {
          "output_type": "stream",
          "name": "stdout",
          "text": [
            "Epoch 1/15\n",
            "\u001b[1m11/11\u001b[0m \u001b[32m━━━━━━━━━━━━━━━━━━━━\u001b[0m\u001b[37m\u001b[0m \u001b[1m22s\u001b[0m 2s/step - accuracy: 0.3144 - loss: 2.9423\n",
            "Epoch 2/15\n",
            "\u001b[1m11/11\u001b[0m \u001b[32m━━━━━━━━━━━━━━━━━━━━\u001b[0m\u001b[37m\u001b[0m \u001b[1m19s\u001b[0m 2s/step - accuracy: 0.4435 - loss: 1.1817\n",
            "Epoch 3/15\n",
            "\u001b[1m11/11\u001b[0m \u001b[32m━━━━━━━━━━━━━━━━━━━━\u001b[0m\u001b[37m\u001b[0m \u001b[1m20s\u001b[0m 2s/step - accuracy: 0.3716 - loss: 1.1168\n",
            "Epoch 4/15\n",
            "\u001b[1m11/11\u001b[0m \u001b[32m━━━━━━━━━━━━━━━━━━━━\u001b[0m\u001b[37m\u001b[0m \u001b[1m20s\u001b[0m 2s/step - accuracy: 0.5131 - loss: 0.9967\n",
            "Epoch 5/15\n",
            "\u001b[1m11/11\u001b[0m \u001b[32m━━━━━━━━━━━━━━━━━━━━\u001b[0m\u001b[37m\u001b[0m \u001b[1m21s\u001b[0m 2s/step - accuracy: 0.5847 - loss: 0.9395\n",
            "Epoch 6/15\n",
            "\u001b[1m11/11\u001b[0m \u001b[32m━━━━━━━━━━━━━━━━━━━━\u001b[0m\u001b[37m\u001b[0m \u001b[1m20s\u001b[0m 2s/step - accuracy: 0.6415 - loss: 0.8188\n",
            "Epoch 7/15\n",
            "\u001b[1m11/11\u001b[0m \u001b[32m━━━━━━━━━━━━━━━━━━━━\u001b[0m\u001b[37m\u001b[0m \u001b[1m21s\u001b[0m 2s/step - accuracy: 0.6796 - loss: 0.7028\n",
            "Epoch 8/15\n",
            "\u001b[1m11/11\u001b[0m \u001b[32m━━━━━━━━━━━━━━━━━━━━\u001b[0m\u001b[37m\u001b[0m \u001b[1m22s\u001b[0m 2s/step - accuracy: 0.6919 - loss: 0.6515\n",
            "Epoch 9/15\n",
            "\u001b[1m11/11\u001b[0m \u001b[32m━━━━━━━━━━━━━━━━━━━━\u001b[0m\u001b[37m\u001b[0m \u001b[1m19s\u001b[0m 2s/step - accuracy: 0.6697 - loss: 0.6575\n",
            "Epoch 10/15\n",
            "\u001b[1m11/11\u001b[0m \u001b[32m━━━━━━━━━━━━━━━━━━━━\u001b[0m\u001b[37m\u001b[0m \u001b[1m21s\u001b[0m 2s/step - accuracy: 0.6928 - loss: 0.6221\n",
            "Epoch 11/15\n",
            "\u001b[1m11/11\u001b[0m \u001b[32m━━━━━━━━━━━━━━━━━━━━\u001b[0m\u001b[37m\u001b[0m \u001b[1m21s\u001b[0m 2s/step - accuracy: 0.8151 - loss: 0.5155\n",
            "Epoch 12/15\n",
            "\u001b[1m11/11\u001b[0m \u001b[32m━━━━━━━━━━━━━━━━━━━━\u001b[0m\u001b[37m\u001b[0m \u001b[1m19s\u001b[0m 2s/step - accuracy: 0.7327 - loss: 0.5546\n",
            "Epoch 13/15\n",
            "\u001b[1m11/11\u001b[0m \u001b[32m━━━━━━━━━━━━━━━━━━━━\u001b[0m\u001b[37m\u001b[0m \u001b[1m20s\u001b[0m 2s/step - accuracy: 0.7487 - loss: 0.5032\n",
            "Epoch 14/15\n",
            "\u001b[1m11/11\u001b[0m \u001b[32m━━━━━━━━━━━━━━━━━━━━\u001b[0m\u001b[37m\u001b[0m \u001b[1m18s\u001b[0m 2s/step - accuracy: 0.8193 - loss: 0.4453\n",
            "Epoch 15/15\n",
            "\u001b[1m11/11\u001b[0m \u001b[32m━━━━━━━━━━━━━━━━━━━━\u001b[0m\u001b[37m\u001b[0m \u001b[1m22s\u001b[0m 2s/step - accuracy: 0.8283 - loss: 0.3977\n"
          ]
        },
        {
          "output_type": "execute_result",
          "data": {
            "text/plain": [
              "<keras.src.callbacks.history.History at 0x7db1d30b3e80>"
            ]
          },
          "metadata": {},
          "execution_count": 24
        }
      ],
      "source": [
        "model1.fit(x_train_scaled,np.array(y_train),epochs=15)"
      ]
    },
    {
      "cell_type": "code",
      "execution_count": null,
      "metadata": {
        "id": "Oal8ghtE75F-",
        "colab": {
          "base_uri": "https://localhost:8080/"
        },
        "outputId": "19beb046-a304-4489-84c2-9c2caa0788e0"
      },
      "outputs": [
        {
          "output_type": "stream",
          "name": "stdout",
          "text": [
            "\u001b[1m4/4\u001b[0m \u001b[32m━━━━━━━━━━━━━━━━━━━━\u001b[0m\u001b[37m\u001b[0m \u001b[1m1s\u001b[0m 293ms/step - accuracy: 0.8894 - loss: 0.3121\n"
          ]
        },
        {
          "output_type": "execute_result",
          "data": {
            "text/plain": [
              "[0.29691922664642334, 0.8771929740905762]"
            ]
          },
          "metadata": {},
          "execution_count": 25
        }
      ],
      "source": [
        "model1.evaluate(x_test_scaled,np.array(y_test))"
      ]
    },
    {
      "cell_type": "markdown",
      "metadata": {
        "id": "p90hBJlOA0r5"
      },
      "source": [
        "#CNN Model with only Dropout layers"
      ]
    },
    {
      "cell_type": "raw",
      "metadata": {
        "id": "8agljnqs75F_"
      },
      "source": [
        "#CNN Model only with Augumentation layers"
      ]
    },
    {
      "source": [
        "import tensorflow as tf\n",
        "from tensorflow import keras\n",
        "from tensorflow.keras import layers, models\n",
        "\n",
        "model3 = models.Sequential([\n",
        "    keras.layers.RandomZoom(0.3),  # Use keras.layers directly for RandomZoom\n",
        "    layers.Conv2D(16, 3, padding='same', activation='relu'),\n",
        "    layers.MaxPooling2D(),\n",
        "    layers.Flatten(),\n",
        "    layers.Dense(128, activation=\"relu\"),\n",
        "    layers.Dropout(0.3),\n",
        "    layers.Dense(64, activation=\"relu\"),\n",
        "    layers.Dense(32, activation=\"relu\"),\n",
        "    layers.Dense(16, activation=\"relu\"),\n",
        "    layers.Dense(4, activation=\"softmax\")\n",
        "])\n",
        "model3.compile(optimizer=\"adam\", loss=\"sparse_categorical_crossentropy\", metrics=[\"accuracy\"])"
      ],
      "cell_type": "code",
      "metadata": {
        "id": "hyZdQIDj4U6v"
      },
      "execution_count": null,
      "outputs": []
    },
    {
      "cell_type": "code",
      "execution_count": null,
      "metadata": {
        "id": "mpN1JZy775GA",
        "colab": {
          "base_uri": "https://localhost:8080/"
        },
        "outputId": "a5f0a7ea-c1cb-49be-f136-92c694c69e4c"
      },
      "outputs": [
        {
          "output_type": "stream",
          "name": "stdout",
          "text": [
            "Epoch 1/20\n",
            "\u001b[1m11/11\u001b[0m \u001b[32m━━━━━━━━━━━━━━━━━━━━\u001b[0m\u001b[37m\u001b[0m \u001b[1m18s\u001b[0m 1s/step - accuracy: 0.3243 - loss: 4.2694\n",
            "Epoch 2/20\n",
            "\u001b[1m11/11\u001b[0m \u001b[32m━━━━━━━━━━━━━━━━━━━━\u001b[0m\u001b[37m\u001b[0m \u001b[1m20s\u001b[0m 1s/step - accuracy: 0.3379 - loss: 1.7512\n",
            "Epoch 3/20\n",
            "\u001b[1m11/11\u001b[0m \u001b[32m━━━━━━━━━━━━━━━━━━━━\u001b[0m\u001b[37m\u001b[0m \u001b[1m21s\u001b[0m 1s/step - accuracy: 0.3886 - loss: 1.1645\n",
            "Epoch 4/20\n",
            "\u001b[1m11/11\u001b[0m \u001b[32m━━━━━━━━━━━━━━━━━━━━\u001b[0m\u001b[37m\u001b[0m \u001b[1m21s\u001b[0m 1s/step - accuracy: 0.4750 - loss: 1.0271\n",
            "Epoch 5/20\n",
            "\u001b[1m11/11\u001b[0m \u001b[32m━━━━━━━━━━━━━━━━━━━━\u001b[0m\u001b[37m\u001b[0m \u001b[1m20s\u001b[0m 1s/step - accuracy: 0.4900 - loss: 0.9363\n",
            "Epoch 6/20\n",
            "\u001b[1m11/11\u001b[0m \u001b[32m━━━━━━━━━━━━━━━━━━━━\u001b[0m\u001b[37m\u001b[0m \u001b[1m21s\u001b[0m 1s/step - accuracy: 0.5130 - loss: 0.8687\n",
            "Epoch 7/20\n",
            "\u001b[1m11/11\u001b[0m \u001b[32m━━━━━━━━━━━━━━━━━━━━\u001b[0m\u001b[37m\u001b[0m \u001b[1m21s\u001b[0m 1s/step - accuracy: 0.5576 - loss: 0.8531\n",
            "Epoch 8/20\n",
            "\u001b[1m11/11\u001b[0m \u001b[32m━━━━━━━━━━━━━━━━━━━━\u001b[0m\u001b[37m\u001b[0m \u001b[1m20s\u001b[0m 1s/step - accuracy: 0.6490 - loss: 0.7282\n",
            "Epoch 9/20\n",
            "\u001b[1m11/11\u001b[0m \u001b[32m━━━━━━━━━━━━━━━━━━━━\u001b[0m\u001b[37m\u001b[0m \u001b[1m20s\u001b[0m 1s/step - accuracy: 0.6997 - loss: 0.7010\n",
            "Epoch 10/20\n",
            "\u001b[1m11/11\u001b[0m \u001b[32m━━━━━━━━━━━━━━━━━━━━\u001b[0m\u001b[37m\u001b[0m \u001b[1m15s\u001b[0m 1s/step - accuracy: 0.7603 - loss: 0.5583\n",
            "Epoch 11/20\n",
            "\u001b[1m11/11\u001b[0m \u001b[32m━━━━━━━━━━━━━━━━━━━━\u001b[0m\u001b[37m\u001b[0m \u001b[1m20s\u001b[0m 1s/step - accuracy: 0.7642 - loss: 0.5321\n",
            "Epoch 12/20\n",
            "\u001b[1m11/11\u001b[0m \u001b[32m━━━━━━━━━━━━━━━━━━━━\u001b[0m\u001b[37m\u001b[0m \u001b[1m20s\u001b[0m 1s/step - accuracy: 0.7840 - loss: 0.5167\n",
            "Epoch 13/20\n",
            "\u001b[1m11/11\u001b[0m \u001b[32m━━━━━━━━━━━━━━━━━━━━\u001b[0m\u001b[37m\u001b[0m \u001b[1m21s\u001b[0m 1s/step - accuracy: 0.7039 - loss: 0.6300\n",
            "Epoch 14/20\n",
            "\u001b[1m11/11\u001b[0m \u001b[32m━━━━━━━━━━━━━━━━━━━━\u001b[0m\u001b[37m\u001b[0m \u001b[1m20s\u001b[0m 1s/step - accuracy: 0.8144 - loss: 0.4843\n",
            "Epoch 15/20\n",
            "\u001b[1m11/11\u001b[0m \u001b[32m━━━━━━━━━━━━━━━━━━━━\u001b[0m\u001b[37m\u001b[0m \u001b[1m15s\u001b[0m 1s/step - accuracy: 0.8276 - loss: 0.4211\n",
            "Epoch 16/20\n",
            "\u001b[1m11/11\u001b[0m \u001b[32m━━━━━━━━━━━━━━━━━━━━\u001b[0m\u001b[37m\u001b[0m \u001b[1m20s\u001b[0m 1s/step - accuracy: 0.8420 - loss: 0.3726\n",
            "Epoch 17/20\n",
            "\u001b[1m11/11\u001b[0m \u001b[32m━━━━━━━━━━━━━━━━━━━━\u001b[0m\u001b[37m\u001b[0m \u001b[1m21s\u001b[0m 1s/step - accuracy: 0.8479 - loss: 0.3871\n",
            "Epoch 18/20\n",
            "\u001b[1m11/11\u001b[0m \u001b[32m━━━━━━━━━━━━━━━━━━━━\u001b[0m\u001b[37m\u001b[0m \u001b[1m20s\u001b[0m 1s/step - accuracy: 0.8655 - loss: 0.3911\n",
            "Epoch 19/20\n",
            "\u001b[1m11/11\u001b[0m \u001b[32m━━━━━━━━━━━━━━━━━━━━\u001b[0m\u001b[37m\u001b[0m \u001b[1m20s\u001b[0m 1s/step - accuracy: 0.8565 - loss: 0.3651\n",
            "Epoch 20/20\n",
            "\u001b[1m11/11\u001b[0m \u001b[32m━━━━━━━━━━━━━━━━━━━━\u001b[0m\u001b[37m\u001b[0m \u001b[1m21s\u001b[0m 1s/step - accuracy: 0.8785 - loss: 0.3383\n"
          ]
        },
        {
          "output_type": "execute_result",
          "data": {
            "text/plain": [
              "<keras.src.callbacks.history.History at 0x7db1d65a1960>"
            ]
          },
          "metadata": {},
          "execution_count": 27
        }
      ],
      "source": [
        "model3.fit(x_train_scaled,np.array(y_train),epochs=20)"
      ]
    },
    {
      "cell_type": "code",
      "execution_count": null,
      "metadata": {
        "id": "ycZBCdJ075GA",
        "colab": {
          "base_uri": "https://localhost:8080/"
        },
        "outputId": "7ab50b33-6ae6-40b7-e470-e5d6b19824a4"
      },
      "outputs": [
        {
          "output_type": "stream",
          "name": "stdout",
          "text": [
            "\u001b[1m4/4\u001b[0m \u001b[32m━━━━━━━━━━━━━━━━━━━━\u001b[0m\u001b[37m\u001b[0m \u001b[1m2s\u001b[0m 415ms/step - accuracy: 0.9145 - loss: 0.3262\n"
          ]
        },
        {
          "output_type": "execute_result",
          "data": {
            "text/plain": [
              "[0.31912240386009216, 0.9035087823867798]"
            ]
          },
          "metadata": {},
          "execution_count": 28
        }
      ],
      "source": [
        "model3.evaluate(x_test_scaled,np.array(y_test))"
      ]
    },
    {
      "source": [
        "import tensorflow as tf\n",
        "from tensorflow import keras\n",
        "from tensorflow.keras import layers, models\n",
        "\n",
        "model4 = models.Sequential([\n",
        "    # Use tf.keras.layers directly for RandomZoom and RandomFlip\n",
        "    layers.RandomZoom(0.3),\n",
        "    layers.RandomFlip(mode=\"horizontal_and_vertical\"),\n",
        "    layers.Conv2D(16, 3, padding='same', activation='relu'),\n",
        "    layers.MaxPooling2D(),\n",
        "    layers.Flatten(),\n",
        "    layers.Dense(128, activation=\"relu\"),\n",
        "    layers.Dense(64, activation=\"relu\"),\n",
        "    layers.Dense(5, activation=\"softmax\")\n",
        "])\n",
        "model4.compile(\n",
        "    optimizer=\"adam\", loss=\"sparse_categorical_crossentropy\", metrics=[\"accuracy\"])"
      ],
      "cell_type": "code",
      "metadata": {
        "id": "t28Bpavb-07t"
      },
      "execution_count": null,
      "outputs": []
    },
    {
      "cell_type": "code",
      "execution_count": null,
      "metadata": {
        "id": "akpoOG_V75GA",
        "colab": {
          "base_uri": "https://localhost:8080/"
        },
        "outputId": "283b9571-4670-4df3-c828-e95133a923d7"
      },
      "outputs": [
        {
          "output_type": "stream",
          "name": "stdout",
          "text": [
            "Epoch 1/8\n",
            "\u001b[1m11/11\u001b[0m \u001b[32m━━━━━━━━━━━━━━━━━━━━\u001b[0m\u001b[37m\u001b[0m \u001b[1m19s\u001b[0m 1s/step - accuracy: 0.2908 - loss: 10.3757\n",
            "Epoch 2/8\n",
            "\u001b[1m11/11\u001b[0m \u001b[32m━━━━━━━━━━━━━━━━━━━━\u001b[0m\u001b[37m\u001b[0m \u001b[1m16s\u001b[0m 1s/step - accuracy: 0.3874 - loss: 2.5592\n",
            "Epoch 3/8\n",
            "\u001b[1m11/11\u001b[0m \u001b[32m━━━━━━━━━━━━━━━━━━━━\u001b[0m\u001b[37m\u001b[0m \u001b[1m21s\u001b[0m 1s/step - accuracy: 0.4808 - loss: 1.1106\n",
            "Epoch 4/8\n",
            "\u001b[1m11/11\u001b[0m \u001b[32m━━━━━━━━━━━━━━━━━━━━\u001b[0m\u001b[37m\u001b[0m \u001b[1m20s\u001b[0m 1s/step - accuracy: 0.5181 - loss: 0.9818\n",
            "Epoch 5/8\n",
            "\u001b[1m11/11\u001b[0m \u001b[32m━━━━━━━━━━━━━━━━━━━━\u001b[0m\u001b[37m\u001b[0m \u001b[1m21s\u001b[0m 1s/step - accuracy: 0.6007 - loss: 0.7686\n",
            "Epoch 6/8\n",
            "\u001b[1m11/11\u001b[0m \u001b[32m━━━━━━━━━━━━━━━━━━━━\u001b[0m\u001b[37m\u001b[0m \u001b[1m20s\u001b[0m 1s/step - accuracy: 0.5897 - loss: 0.8540\n",
            "Epoch 7/8\n",
            "\u001b[1m11/11\u001b[0m \u001b[32m━━━━━━━━━━━━━━━━━━━━\u001b[0m\u001b[37m\u001b[0m \u001b[1m20s\u001b[0m 1s/step - accuracy: 0.6582 - loss: 0.6414\n",
            "Epoch 8/8\n",
            "\u001b[1m11/11\u001b[0m \u001b[32m━━━━━━━━━━━━━━━━━━━━\u001b[0m\u001b[37m\u001b[0m \u001b[1m20s\u001b[0m 1s/step - accuracy: 0.5972 - loss: 0.7518\n"
          ]
        },
        {
          "output_type": "execute_result",
          "data": {
            "text/plain": [
              "<keras.src.callbacks.history.History at 0x7db1b15c9f60>"
            ]
          },
          "metadata": {},
          "execution_count": 30
        }
      ],
      "source": [
        "model4.fit(x_train_scaled,np.array(y_train),epochs=8)"
      ]
    },
    {
      "cell_type": "code",
      "execution_count": null,
      "metadata": {
        "id": "dVjv0t4d75GA",
        "colab": {
          "base_uri": "https://localhost:8080/"
        },
        "outputId": "1d1bf731-ece6-4c35-d2de-8cd115cb488d"
      },
      "outputs": [
        {
          "output_type": "stream",
          "name": "stdout",
          "text": [
            "\u001b[1m4/4\u001b[0m \u001b[32m━━━━━━━━━━━━━━━━━━━━\u001b[0m\u001b[37m\u001b[0m \u001b[1m1s\u001b[0m 250ms/step - accuracy: 0.6793 - loss: 0.8468\n"
          ]
        },
        {
          "output_type": "execute_result",
          "data": {
            "text/plain": [
              "[0.8064515590667725, 0.6929824352264404]"
            ]
          },
          "metadata": {},
          "execution_count": 31
        }
      ],
      "source": [
        "model4.evaluate(x_test_scaled,np.array(y_test))"
      ]
    },
    {
      "cell_type": "code",
      "source": [],
      "metadata": {
        "id": "8W8H2G0c3Dse"
      },
      "execution_count": null,
      "outputs": []
    },
    {
      "cell_type": "code",
      "source": [],
      "metadata": {
        "id": "27VxPzzZ3DpC"
      },
      "execution_count": null,
      "outputs": []
    },
    {
      "cell_type": "raw",
      "metadata": {
        "id": "lQhHPEJV75GB"
      },
      "source": [
        "#CNN Model with Data Augumentation layer and more dense layers"
      ]
    },
    {
      "source": [
        "!pip install tensorflow\n",
        "!pip install keras\n",
        "\n",
        "import tensorflow as tf\n",
        "from tensorflow import keras\n",
        "from tensorflow.keras import layers, models\n",
        "\n",
        "# Define the model\n",
        "model5 = models.Sequential([\n",
        "    keras.layers.RandomZoom(0.3),  # Use keras.layers.RandomZoom directly\n",
        "    layers.Conv2D(16, 3, padding='same', activation='relu'),\n",
        "    layers.MaxPooling2D(),\n",
        "    layers.Flatten(),\n",
        "    layers.Dense(128, activation=\"relu\"),\n",
        "    layers.Dense(64, activation=\"relu\"),\n",
        "    layers.Dense(32, activation=\"relu\"),\n",
        "    layers.Dense(4, activation=\"softmax\")\n",
        "])\n",
        "\n",
        "# Compile the model\n",
        "model5.compile(optimizer=\"adam\", loss=\"sparse_categorical_crossentropy\", metrics=[\"accuracy\"])"
      ],
      "cell_type": "code",
      "metadata": {
        "colab": {
          "base_uri": "https://localhost:8080/"
        },
        "id": "qM9SLsSA_pw8",
        "outputId": "86ed1282-9f44-43b4-9be1-554e217a1367"
      },
      "execution_count": null,
      "outputs": [
        {
          "output_type": "stream",
          "name": "stdout",
          "text": [
            "Requirement already satisfied: tensorflow in /usr/local/lib/python3.10/dist-packages (2.17.0)\n",
            "Requirement already satisfied: absl-py>=1.0.0 in /usr/local/lib/python3.10/dist-packages (from tensorflow) (1.4.0)\n",
            "Requirement already satisfied: astunparse>=1.6.0 in /usr/local/lib/python3.10/dist-packages (from tensorflow) (1.6.3)\n",
            "Requirement already satisfied: flatbuffers>=24.3.25 in /usr/local/lib/python3.10/dist-packages (from tensorflow) (24.3.25)\n",
            "Requirement already satisfied: gast!=0.5.0,!=0.5.1,!=0.5.2,>=0.2.1 in /usr/local/lib/python3.10/dist-packages (from tensorflow) (0.6.0)\n",
            "Requirement already satisfied: google-pasta>=0.1.1 in /usr/local/lib/python3.10/dist-packages (from tensorflow) (0.2.0)\n",
            "Requirement already satisfied: h5py>=3.10.0 in /usr/local/lib/python3.10/dist-packages (from tensorflow) (3.11.0)\n",
            "Requirement already satisfied: libclang>=13.0.0 in /usr/local/lib/python3.10/dist-packages (from tensorflow) (18.1.1)\n",
            "Requirement already satisfied: ml-dtypes<0.5.0,>=0.3.1 in /usr/local/lib/python3.10/dist-packages (from tensorflow) (0.4.1)\n",
            "Requirement already satisfied: opt-einsum>=2.3.2 in /usr/local/lib/python3.10/dist-packages (from tensorflow) (3.4.0)\n",
            "Requirement already satisfied: packaging in /usr/local/lib/python3.10/dist-packages (from tensorflow) (24.1)\n",
            "Requirement already satisfied: protobuf!=4.21.0,!=4.21.1,!=4.21.2,!=4.21.3,!=4.21.4,!=4.21.5,<5.0.0dev,>=3.20.3 in /usr/local/lib/python3.10/dist-packages (from tensorflow) (3.20.3)\n",
            "Requirement already satisfied: requests<3,>=2.21.0 in /usr/local/lib/python3.10/dist-packages (from tensorflow) (2.32.3)\n",
            "Requirement already satisfied: setuptools in /usr/local/lib/python3.10/dist-packages (from tensorflow) (71.0.4)\n",
            "Requirement already satisfied: six>=1.12.0 in /usr/local/lib/python3.10/dist-packages (from tensorflow) (1.16.0)\n",
            "Requirement already satisfied: termcolor>=1.1.0 in /usr/local/lib/python3.10/dist-packages (from tensorflow) (2.4.0)\n",
            "Requirement already satisfied: typing-extensions>=3.6.6 in /usr/local/lib/python3.10/dist-packages (from tensorflow) (4.12.2)\n",
            "Requirement already satisfied: wrapt>=1.11.0 in /usr/local/lib/python3.10/dist-packages (from tensorflow) (1.16.0)\n",
            "Requirement already satisfied: grpcio<2.0,>=1.24.3 in /usr/local/lib/python3.10/dist-packages (from tensorflow) (1.64.1)\n",
            "Requirement already satisfied: tensorboard<2.18,>=2.17 in /usr/local/lib/python3.10/dist-packages (from tensorflow) (2.17.0)\n",
            "Requirement already satisfied: keras>=3.2.0 in /usr/local/lib/python3.10/dist-packages (from tensorflow) (3.4.1)\n",
            "Requirement already satisfied: tensorflow-io-gcs-filesystem>=0.23.1 in /usr/local/lib/python3.10/dist-packages (from tensorflow) (0.37.1)\n",
            "Requirement already satisfied: numpy<2.0.0,>=1.23.5 in /usr/local/lib/python3.10/dist-packages (from tensorflow) (1.26.4)\n",
            "Requirement already satisfied: wheel<1.0,>=0.23.0 in /usr/local/lib/python3.10/dist-packages (from astunparse>=1.6.0->tensorflow) (0.44.0)\n",
            "Requirement already satisfied: rich in /usr/local/lib/python3.10/dist-packages (from keras>=3.2.0->tensorflow) (13.8.1)\n",
            "Requirement already satisfied: namex in /usr/local/lib/python3.10/dist-packages (from keras>=3.2.0->tensorflow) (0.0.8)\n",
            "Requirement already satisfied: optree in /usr/local/lib/python3.10/dist-packages (from keras>=3.2.0->tensorflow) (0.12.1)\n",
            "Requirement already satisfied: charset-normalizer<4,>=2 in /usr/local/lib/python3.10/dist-packages (from requests<3,>=2.21.0->tensorflow) (3.3.2)\n",
            "Requirement already satisfied: idna<4,>=2.5 in /usr/local/lib/python3.10/dist-packages (from requests<3,>=2.21.0->tensorflow) (3.10)\n",
            "Requirement already satisfied: urllib3<3,>=1.21.1 in /usr/local/lib/python3.10/dist-packages (from requests<3,>=2.21.0->tensorflow) (2.2.3)\n",
            "Requirement already satisfied: certifi>=2017.4.17 in /usr/local/lib/python3.10/dist-packages (from requests<3,>=2.21.0->tensorflow) (2024.8.30)\n",
            "Requirement already satisfied: markdown>=2.6.8 in /usr/local/lib/python3.10/dist-packages (from tensorboard<2.18,>=2.17->tensorflow) (3.7)\n",
            "Requirement already satisfied: tensorboard-data-server<0.8.0,>=0.7.0 in /usr/local/lib/python3.10/dist-packages (from tensorboard<2.18,>=2.17->tensorflow) (0.7.2)\n",
            "Requirement already satisfied: werkzeug>=1.0.1 in /usr/local/lib/python3.10/dist-packages (from tensorboard<2.18,>=2.17->tensorflow) (3.0.4)\n",
            "Requirement already satisfied: MarkupSafe>=2.1.1 in /usr/local/lib/python3.10/dist-packages (from werkzeug>=1.0.1->tensorboard<2.18,>=2.17->tensorflow) (2.1.5)\n",
            "Requirement already satisfied: markdown-it-py>=2.2.0 in /usr/local/lib/python3.10/dist-packages (from rich->keras>=3.2.0->tensorflow) (3.0.0)\n",
            "Requirement already satisfied: pygments<3.0.0,>=2.13.0 in /usr/local/lib/python3.10/dist-packages (from rich->keras>=3.2.0->tensorflow) (2.18.0)\n",
            "Requirement already satisfied: mdurl~=0.1 in /usr/local/lib/python3.10/dist-packages (from markdown-it-py>=2.2.0->rich->keras>=3.2.0->tensorflow) (0.1.2)\n",
            "Requirement already satisfied: keras in /usr/local/lib/python3.10/dist-packages (3.4.1)\n",
            "Requirement already satisfied: absl-py in /usr/local/lib/python3.10/dist-packages (from keras) (1.4.0)\n",
            "Requirement already satisfied: numpy in /usr/local/lib/python3.10/dist-packages (from keras) (1.26.4)\n",
            "Requirement already satisfied: rich in /usr/local/lib/python3.10/dist-packages (from keras) (13.8.1)\n",
            "Requirement already satisfied: namex in /usr/local/lib/python3.10/dist-packages (from keras) (0.0.8)\n",
            "Requirement already satisfied: h5py in /usr/local/lib/python3.10/dist-packages (from keras) (3.11.0)\n",
            "Requirement already satisfied: optree in /usr/local/lib/python3.10/dist-packages (from keras) (0.12.1)\n",
            "Requirement already satisfied: ml-dtypes in /usr/local/lib/python3.10/dist-packages (from keras) (0.4.1)\n",
            "Requirement already satisfied: packaging in /usr/local/lib/python3.10/dist-packages (from keras) (24.1)\n",
            "Requirement already satisfied: typing-extensions>=4.5.0 in /usr/local/lib/python3.10/dist-packages (from optree->keras) (4.12.2)\n",
            "Requirement already satisfied: markdown-it-py>=2.2.0 in /usr/local/lib/python3.10/dist-packages (from rich->keras) (3.0.0)\n",
            "Requirement already satisfied: pygments<3.0.0,>=2.13.0 in /usr/local/lib/python3.10/dist-packages (from rich->keras) (2.18.0)\n",
            "Requirement already satisfied: mdurl~=0.1 in /usr/local/lib/python3.10/dist-packages (from markdown-it-py>=2.2.0->rich->keras) (0.1.2)\n"
          ]
        }
      ]
    },
    {
      "cell_type": "code",
      "execution_count": null,
      "metadata": {
        "id": "MM4tbyrW75GB",
        "colab": {
          "base_uri": "https://localhost:8080/"
        },
        "outputId": "a35450ed-bcc1-4c13-a6d7-17eaab1ae325"
      },
      "outputs": [
        {
          "output_type": "stream",
          "name": "stdout",
          "text": [
            "Epoch 1/8\n",
            "\u001b[1m11/11\u001b[0m \u001b[32m━━━━━━━━━━━━━━━━━━━━\u001b[0m\u001b[37m\u001b[0m \u001b[1m32s\u001b[0m 3s/step - accuracy: 0.3418 - loss: 7.6605\n",
            "Epoch 2/8\n",
            "\u001b[1m11/11\u001b[0m \u001b[32m━━━━━━━━━━━━━━━━━━━━\u001b[0m\u001b[37m\u001b[0m \u001b[1m28s\u001b[0m 1s/step - accuracy: 0.4621 - loss: 1.4510\n",
            "Epoch 3/8\n",
            "\u001b[1m11/11\u001b[0m \u001b[32m━━━━━━━━━━━━━━━━━━━━\u001b[0m\u001b[37m\u001b[0m \u001b[1m20s\u001b[0m 1s/step - accuracy: 0.5517 - loss: 0.9642\n",
            "Epoch 4/8\n",
            "\u001b[1m11/11\u001b[0m \u001b[32m━━━━━━━━━━━━━━━━━━━━\u001b[0m\u001b[37m\u001b[0m \u001b[1m15s\u001b[0m 1s/step - accuracy: 0.6113 - loss: 0.8032\n",
            "Epoch 5/8\n",
            "\u001b[1m11/11\u001b[0m \u001b[32m━━━━━━━━━━━━━━━━━━━━\u001b[0m\u001b[37m\u001b[0m \u001b[1m21s\u001b[0m 1s/step - accuracy: 0.6378 - loss: 0.7231\n",
            "Epoch 6/8\n",
            "\u001b[1m11/11\u001b[0m \u001b[32m━━━━━━━━━━━━━━━━━━━━\u001b[0m\u001b[37m\u001b[0m \u001b[1m21s\u001b[0m 1s/step - accuracy: 0.7027 - loss: 0.6235\n",
            "Epoch 7/8\n",
            "\u001b[1m11/11\u001b[0m \u001b[32m━━━━━━━━━━━━━━━━━━━━\u001b[0m\u001b[37m\u001b[0m \u001b[1m19s\u001b[0m 1s/step - accuracy: 0.7578 - loss: 0.5679\n",
            "Epoch 8/8\n",
            "\u001b[1m11/11\u001b[0m \u001b[32m━━━━━━━━━━━━━━━━━━━━\u001b[0m\u001b[37m\u001b[0m \u001b[1m20s\u001b[0m 1s/step - accuracy: 0.7877 - loss: 0.4077\n"
          ]
        },
        {
          "output_type": "execute_result",
          "data": {
            "text/plain": [
              "<keras.src.callbacks.history.History at 0x7db1ab50d9f0>"
            ]
          },
          "metadata": {},
          "execution_count": 33
        }
      ],
      "source": [
        "model5.fit(x_train_scaled,np.array(y_train),epochs=8)"
      ]
    },
    {
      "cell_type": "code",
      "execution_count": null,
      "metadata": {
        "id": "-_8C3wuB75GB",
        "colab": {
          "base_uri": "https://localhost:8080/"
        },
        "outputId": "119b27f7-7992-469c-c59b-44a8380d7f90"
      },
      "outputs": [
        {
          "output_type": "stream",
          "name": "stdout",
          "text": [
            "\u001b[1m4/4\u001b[0m \u001b[32m━━━━━━━━━━━━━━━━━━━━\u001b[0m\u001b[37m\u001b[0m \u001b[1m1s\u001b[0m 327ms/step - accuracy: 0.7580 - loss: 0.5879\n"
          ]
        },
        {
          "output_type": "execute_result",
          "data": {
            "text/plain": [
              "[0.5716977119445801, 0.7543859481811523]"
            ]
          },
          "metadata": {},
          "execution_count": 34
        }
      ],
      "source": [
        "model5.evaluate(x_test_scaled,np.array(y_test))"
      ]
    },
    {
      "cell_type": "raw",
      "metadata": {
        "id": "i9voOkyU75GB"
      },
      "source": [
        "#CNN MODEL THAT USES FILTERS IN ALL THE LAYERS\n",
        "\n",
        "---\n",
        "\n"
      ]
    },
    {
      "cell_type": "code",
      "source": [],
      "metadata": {
        "id": "dsqpnWb33IWp"
      },
      "execution_count": null,
      "outputs": []
    },
    {
      "cell_type": "code",
      "source": [],
      "metadata": {
        "id": "3qDDG17N3ITN"
      },
      "execution_count": null,
      "outputs": []
    },
    {
      "cell_type": "code",
      "execution_count": null,
      "metadata": {
        "id": "wo2JcFll75GC"
      },
      "outputs": [],
      "source": [
        "myCNN=tf.keras.models.Sequential([\n",
        "    layers.BatchNormalization(),\n",
        "    layers.Conv2D(32,3,activation=\"relu\"),\n",
        "    layers.MaxPooling2D(),\n",
        "    layers.Conv2D(64,3,activation=\"relu\"),\n",
        "    layers.MaxPooling2D(),\n",
        "    layers.Conv2D(128,3,activation=\"relu\"),\n",
        "    layers.MaxPooling2D(),\n",
        "    layers.Flatten(),\n",
        "    layers.Dense(256,activation=\"relu\"),\n",
        "    layers.Dense(4,activation=\"softmax\")\n",
        "])\n",
        "myCNN.compile(optimizer=\"adam\",loss=\"sparse_categorical_crossentropy\",metrics=[\"accuracy\"])"
      ]
    },
    {
      "cell_type": "code",
      "execution_count": null,
      "metadata": {
        "id": "gUKvtsx275GC",
        "colab": {
          "base_uri": "https://localhost:8080/"
        },
        "outputId": "504ea422-85a6-495e-ce50-6b61f22c8176"
      },
      "outputs": [
        {
          "output_type": "stream",
          "name": "stdout",
          "text": [
            "Epoch 1/8\n",
            "\u001b[1m11/11\u001b[0m \u001b[32m━━━━━━━━━━━━━━━━━━━━\u001b[0m\u001b[37m\u001b[0m \u001b[1m62s\u001b[0m 5s/step - accuracy: 0.2946 - loss: 5.0587\n",
            "Epoch 2/8\n",
            "\u001b[1m11/11\u001b[0m \u001b[32m━━━━━━━━━━━━━━━━━━━━\u001b[0m\u001b[37m\u001b[0m \u001b[1m75s\u001b[0m 4s/step - accuracy: 0.7940 - loss: 0.6780\n",
            "Epoch 3/8\n",
            "\u001b[1m11/11\u001b[0m \u001b[32m━━━━━━━━━━━━━━━━━━━━\u001b[0m\u001b[37m\u001b[0m \u001b[1m81s\u001b[0m 4s/step - accuracy: 0.8745 - loss: 0.3188\n",
            "Epoch 4/8\n",
            "\u001b[1m11/11\u001b[0m \u001b[32m━━━━━━━━━━━━━━━━━━━━\u001b[0m\u001b[37m\u001b[0m \u001b[1m81s\u001b[0m 4s/step - accuracy: 0.8714 - loss: 0.2834\n",
            "Epoch 5/8\n",
            "\u001b[1m11/11\u001b[0m \u001b[32m━━━━━━━━━━━━━━━━━━━━\u001b[0m\u001b[37m\u001b[0m \u001b[1m44s\u001b[0m 4s/step - accuracy: 0.9310 - loss: 0.1500\n",
            "Epoch 6/8\n",
            "\u001b[1m11/11\u001b[0m \u001b[32m━━━━━━━━━━━━━━━━━━━━\u001b[0m\u001b[37m\u001b[0m \u001b[1m84s\u001b[0m 4s/step - accuracy: 0.9967 - loss: 0.0378\n",
            "Epoch 7/8\n",
            "\u001b[1m11/11\u001b[0m \u001b[32m━━━━━━━━━━━━━━━━━━━━\u001b[0m\u001b[37m\u001b[0m \u001b[1m82s\u001b[0m 4s/step - accuracy: 0.9808 - loss: 0.0560\n",
            "Epoch 8/8\n",
            "\u001b[1m11/11\u001b[0m \u001b[32m━━━━━━━━━━━━━━━━━━━━\u001b[0m\u001b[37m\u001b[0m \u001b[1m80s\u001b[0m 4s/step - accuracy: 0.9877 - loss: 0.0344\n"
          ]
        },
        {
          "output_type": "execute_result",
          "data": {
            "text/plain": [
              "<keras.src.callbacks.history.History at 0x7db1ab103ee0>"
            ]
          },
          "metadata": {},
          "execution_count": 36
        }
      ],
      "source": [
        "myCNN.fit(x_train_scaled,np.array(y_train),epochs=8)"
      ]
    },
    {
      "cell_type": "code",
      "execution_count": null,
      "metadata": {
        "id": "5QZKW_p675GC",
        "colab": {
          "base_uri": "https://localhost:8080/"
        },
        "outputId": "44e58127-d1c8-4759-a093-572ca80bf41e"
      },
      "outputs": [
        {
          "output_type": "stream",
          "name": "stdout",
          "text": [
            "\u001b[1m4/4\u001b[0m \u001b[32m━━━━━━━━━━━━━━━━━━━━\u001b[0m\u001b[37m\u001b[0m \u001b[1m4s\u001b[0m 828ms/step - accuracy: 0.8320 - loss: 0.4100\n"
          ]
        },
        {
          "output_type": "execute_result",
          "data": {
            "text/plain": [
              "[0.397102415561676, 0.8508771657943726]"
            ]
          },
          "metadata": {},
          "execution_count": 37
        }
      ],
      "source": [
        "myCNN.evaluate(x_test_scaled,np.array(y_test))"
      ]
    },
    {
      "cell_type": "code",
      "source": [
        "!pip install Flask\n",
        "!pip install pyngrok\n",
        "!pip install tensorflow\n",
        "!pip install opencv-python\n"
      ],
      "metadata": {
        "colab": {
          "base_uri": "https://localhost:8080/"
        },
        "id": "b_BM0xB1Ok9t",
        "outputId": "f999d46b-f93c-41eb-d1e1-8f7de13b3fcb"
      },
      "execution_count": null,
      "outputs": [
        {
          "output_type": "stream",
          "name": "stdout",
          "text": [
            "Requirement already satisfied: Flask in /usr/local/lib/python3.10/dist-packages (2.2.5)\n",
            "Requirement already satisfied: Werkzeug>=2.2.2 in /usr/local/lib/python3.10/dist-packages (from Flask) (3.0.4)\n",
            "Requirement already satisfied: Jinja2>=3.0 in /usr/local/lib/python3.10/dist-packages (from Flask) (3.1.4)\n",
            "Requirement already satisfied: itsdangerous>=2.0 in /usr/local/lib/python3.10/dist-packages (from Flask) (2.2.0)\n",
            "Requirement already satisfied: click>=8.0 in /usr/local/lib/python3.10/dist-packages (from Flask) (8.1.7)\n",
            "Requirement already satisfied: MarkupSafe>=2.0 in /usr/local/lib/python3.10/dist-packages (from Jinja2>=3.0->Flask) (2.1.5)\n",
            "Requirement already satisfied: pyngrok in /usr/local/lib/python3.10/dist-packages (7.2.0)\n",
            "Requirement already satisfied: PyYAML>=5.1 in /usr/local/lib/python3.10/dist-packages (from pyngrok) (6.0.2)\n",
            "Requirement already satisfied: tensorflow in /usr/local/lib/python3.10/dist-packages (2.17.0)\n",
            "Requirement already satisfied: absl-py>=1.0.0 in /usr/local/lib/python3.10/dist-packages (from tensorflow) (1.4.0)\n",
            "Requirement already satisfied: astunparse>=1.6.0 in /usr/local/lib/python3.10/dist-packages (from tensorflow) (1.6.3)\n",
            "Requirement already satisfied: flatbuffers>=24.3.25 in /usr/local/lib/python3.10/dist-packages (from tensorflow) (24.3.25)\n",
            "Requirement already satisfied: gast!=0.5.0,!=0.5.1,!=0.5.2,>=0.2.1 in /usr/local/lib/python3.10/dist-packages (from tensorflow) (0.6.0)\n",
            "Requirement already satisfied: google-pasta>=0.1.1 in /usr/local/lib/python3.10/dist-packages (from tensorflow) (0.2.0)\n",
            "Requirement already satisfied: h5py>=3.10.0 in /usr/local/lib/python3.10/dist-packages (from tensorflow) (3.11.0)\n",
            "Requirement already satisfied: libclang>=13.0.0 in /usr/local/lib/python3.10/dist-packages (from tensorflow) (18.1.1)\n",
            "Requirement already satisfied: ml-dtypes<0.5.0,>=0.3.1 in /usr/local/lib/python3.10/dist-packages (from tensorflow) (0.4.1)\n",
            "Requirement already satisfied: opt-einsum>=2.3.2 in /usr/local/lib/python3.10/dist-packages (from tensorflow) (3.4.0)\n",
            "Requirement already satisfied: packaging in /usr/local/lib/python3.10/dist-packages (from tensorflow) (24.1)\n",
            "Requirement already satisfied: protobuf!=4.21.0,!=4.21.1,!=4.21.2,!=4.21.3,!=4.21.4,!=4.21.5,<5.0.0dev,>=3.20.3 in /usr/local/lib/python3.10/dist-packages (from tensorflow) (3.20.3)\n",
            "Requirement already satisfied: requests<3,>=2.21.0 in /usr/local/lib/python3.10/dist-packages (from tensorflow) (2.32.3)\n",
            "Requirement already satisfied: setuptools in /usr/local/lib/python3.10/dist-packages (from tensorflow) (71.0.4)\n",
            "Requirement already satisfied: six>=1.12.0 in /usr/local/lib/python3.10/dist-packages (from tensorflow) (1.16.0)\n",
            "Requirement already satisfied: termcolor>=1.1.0 in /usr/local/lib/python3.10/dist-packages (from tensorflow) (2.4.0)\n",
            "Requirement already satisfied: typing-extensions>=3.6.6 in /usr/local/lib/python3.10/dist-packages (from tensorflow) (4.12.2)\n",
            "Requirement already satisfied: wrapt>=1.11.0 in /usr/local/lib/python3.10/dist-packages (from tensorflow) (1.16.0)\n",
            "Requirement already satisfied: grpcio<2.0,>=1.24.3 in /usr/local/lib/python3.10/dist-packages (from tensorflow) (1.64.1)\n",
            "Requirement already satisfied: tensorboard<2.18,>=2.17 in /usr/local/lib/python3.10/dist-packages (from tensorflow) (2.17.0)\n",
            "Requirement already satisfied: keras>=3.2.0 in /usr/local/lib/python3.10/dist-packages (from tensorflow) (3.4.1)\n",
            "Requirement already satisfied: tensorflow-io-gcs-filesystem>=0.23.1 in /usr/local/lib/python3.10/dist-packages (from tensorflow) (0.37.1)\n",
            "Requirement already satisfied: numpy<2.0.0,>=1.23.5 in /usr/local/lib/python3.10/dist-packages (from tensorflow) (1.26.4)\n",
            "Requirement already satisfied: wheel<1.0,>=0.23.0 in /usr/local/lib/python3.10/dist-packages (from astunparse>=1.6.0->tensorflow) (0.44.0)\n",
            "Requirement already satisfied: rich in /usr/local/lib/python3.10/dist-packages (from keras>=3.2.0->tensorflow) (13.8.1)\n",
            "Requirement already satisfied: namex in /usr/local/lib/python3.10/dist-packages (from keras>=3.2.0->tensorflow) (0.0.8)\n",
            "Requirement already satisfied: optree in /usr/local/lib/python3.10/dist-packages (from keras>=3.2.0->tensorflow) (0.12.1)\n",
            "Requirement already satisfied: charset-normalizer<4,>=2 in /usr/local/lib/python3.10/dist-packages (from requests<3,>=2.21.0->tensorflow) (3.3.2)\n",
            "Requirement already satisfied: idna<4,>=2.5 in /usr/local/lib/python3.10/dist-packages (from requests<3,>=2.21.0->tensorflow) (3.10)\n",
            "Requirement already satisfied: urllib3<3,>=1.21.1 in /usr/local/lib/python3.10/dist-packages (from requests<3,>=2.21.0->tensorflow) (2.2.3)\n",
            "Requirement already satisfied: certifi>=2017.4.17 in /usr/local/lib/python3.10/dist-packages (from requests<3,>=2.21.0->tensorflow) (2024.8.30)\n",
            "Requirement already satisfied: markdown>=2.6.8 in /usr/local/lib/python3.10/dist-packages (from tensorboard<2.18,>=2.17->tensorflow) (3.7)\n",
            "Requirement already satisfied: tensorboard-data-server<0.8.0,>=0.7.0 in /usr/local/lib/python3.10/dist-packages (from tensorboard<2.18,>=2.17->tensorflow) (0.7.2)\n",
            "Requirement already satisfied: werkzeug>=1.0.1 in /usr/local/lib/python3.10/dist-packages (from tensorboard<2.18,>=2.17->tensorflow) (3.0.4)\n",
            "Requirement already satisfied: MarkupSafe>=2.1.1 in /usr/local/lib/python3.10/dist-packages (from werkzeug>=1.0.1->tensorboard<2.18,>=2.17->tensorflow) (2.1.5)\n",
            "Requirement already satisfied: markdown-it-py>=2.2.0 in /usr/local/lib/python3.10/dist-packages (from rich->keras>=3.2.0->tensorflow) (3.0.0)\n",
            "Requirement already satisfied: pygments<3.0.0,>=2.13.0 in /usr/local/lib/python3.10/dist-packages (from rich->keras>=3.2.0->tensorflow) (2.18.0)\n",
            "Requirement already satisfied: mdurl~=0.1 in /usr/local/lib/python3.10/dist-packages (from markdown-it-py>=2.2.0->rich->keras>=3.2.0->tensorflow) (0.1.2)\n",
            "Requirement already satisfied: opencv-python in /usr/local/lib/python3.10/dist-packages (4.10.0.84)\n",
            "Requirement already satisfied: numpy>=1.21.2 in /usr/local/lib/python3.10/dist-packages (from opencv-python) (1.26.4)\n"
          ]
        }
      ]
    },
    {
      "source": [
        "import tensorflow as tf\n",
        "\n",
        "# Save the model first, specifying the path:\n",
        "myCNN.save('my_CNN_model.h5')  # or any desired path\n",
        "\n",
        "# Now you can load the model\n",
        "model = tf.keras.models.load_model('my_CNN_model.h5')"
      ],
      "cell_type": "code",
      "metadata": {
        "colab": {
          "base_uri": "https://localhost:8080/"
        },
        "id": "hFRpEUQLO7fE",
        "outputId": "10e3246f-a800-497f-cff9-3f40528ff9d5"
      },
      "execution_count": null,
      "outputs": [
        {
          "output_type": "stream",
          "name": "stderr",
          "text": [
            "WARNING:absl:You are saving your model as an HDF5 file via `model.save()` or `keras.saving.save_model(model)`. This file format is considered legacy. We recommend using instead the native Keras format, e.g. `model.save('my_model.keras')` or `keras.saving.save_model(model, 'my_model.keras')`. \n",
            "WARNING:absl:Compiled the loaded model, but the compiled metrics have yet to be built. `model.compile_metrics` will be empty until you train or evaluate the model.\n"
          ]
        }
      ]
    },
    {
      "cell_type": "code",
      "source": [
        "from flask import Flask, request, jsonify\n",
        "import numpy as np\n",
        "from keras.models import load_model\n",
        "import cv2\n",
        "from pyngrok import ngrok\n",
        "\n",
        "# Load your trained model\n",
        "model = load_model('my_CNN_model.h5')  # Update with your actual model file\n",
        "\n",
        "app = Flask(__name__)\n",
        "\n",
        "# Define a route for the home page\n",
        "@app.route('/')\n",
        "def home():\n",
        "    return '''\n",
        "    <!DOCTYPE html>\n",
        "    <html>\n",
        "    <head>\n",
        "        <title>CT Scan Cancer Prediction</title>\n",
        "    </head>\n",
        "    <body>\n",
        "        <h1>Upload CT Scan Image</h1>\n",
        "        <form action=\"/predict\" method=\"post\" enctype=\"multipart/form-data\">\n",
        "            <input type=\"file\" name=\"file\" accept=\"image/*\" required>\n",
        "            <input type=\"submit\" value=\"Predict\">\n",
        "        </form>\n",
        "    </body>\n",
        "    </html>\n",
        "    '''\n",
        "\n",
        "# Define a route for prediction\n",
        "@app.route('/predict', methods=['POST'])\n",
        "def predict():\n",
        "    if 'file' not in request.files:\n",
        "        return jsonify({'error': 'No file uploaded'}), 400\n",
        "\n",
        "    file = request.files['file']\n",
        "\n",
        "    # Preprocess the image\n",
        "    img = cv2.imdecode(np.frombuffer(file.read(), np.uint8), cv2.IMREAD_COLOR)\n",
        "    img = cv2.resize(img, (224, 224))  # Update size if needed\n",
        "    img = img / 255.0  # Normalize the image\n",
        "    img = np.expand_dims(img, axis=0)  # Add batch dimension\n",
        "\n",
        "    # Make prediction\n",
        "    predictions = model.predict(img)\n",
        "    predicted_class = np.argmax(predictions, axis=1)[0]\n",
        "\n",
        "    # Define class labels\n",
        "    classes = [\"adenocarcinoma\", \"large_cell_carcinoma\", \"normal\", \"squamous_cell_carcinoma\"]\n",
        "    result = classes[predicted_class]\n",
        "\n",
        "    return jsonify({'prediction': result})\n",
        "\n",
        "# Set up ngrok\n",
        "ngrok.set_auth_token(\"2n4DSHjAj880tekTNAqvLsYdGhR_Gwf7aHGG7MqPkJaCg5L3\")  # Replace with your ngrok token\n",
        "public_url = ngrok.connect(5000)\n",
        "print(f\"Public URL: {public_url}\")\n",
        "\n",
        "# Run the app\n",
        "app.run(port=5000)\n"
      ],
      "metadata": {
        "id": "mJh1vJqfOrD9",
        "colab": {
          "base_uri": "https://localhost:8080/"
        },
        "outputId": "7397b83c-5ab7-4a68-aaf1-6e6e97a4ab24"
      },
      "execution_count": null,
      "outputs": [
        {
          "output_type": "stream",
          "name": "stderr",
          "text": [
            "WARNING:absl:Compiled the loaded model, but the compiled metrics have yet to be built. `model.compile_metrics` will be empty until you train or evaluate the model.\n"
          ]
        },
        {
          "output_type": "stream",
          "name": "stdout",
          "text": [
            "Public URL: NgrokTunnel: \"https://9ba1-34-145-181-104.ngrok-free.app\" -> \"http://localhost:5000\"\n",
            " * Serving Flask app '__main__'\n",
            " * Debug mode: off\n"
          ]
        },
        {
          "output_type": "stream",
          "name": "stderr",
          "text": [
            "INFO:werkzeug:\u001b[31m\u001b[1mWARNING: This is a development server. Do not use it in a production deployment. Use a production WSGI server instead.\u001b[0m\n",
            " * Running on http://127.0.0.1:5000\n",
            "INFO:werkzeug:\u001b[33mPress CTRL+C to quit\u001b[0m\n",
            "INFO:werkzeug:127.0.0.1 - - [06/Oct/2024 15:53:48] \"GET / HTTP/1.1\" 200 -\n",
            "INFO:werkzeug:127.0.0.1 - - [06/Oct/2024 15:53:48] \"\u001b[33mGET /favicon.ico HTTP/1.1\u001b[0m\" 404 -\n"
          ]
        },
        {
          "output_type": "stream",
          "name": "stdout",
          "text": [
            "\u001b[1m1/1\u001b[0m \u001b[32m━━━━━━━━━━━━━━━━━━━━\u001b[0m\u001b[37m\u001b[0m \u001b[1m0s\u001b[0m 128ms/step\n"
          ]
        },
        {
          "output_type": "stream",
          "name": "stderr",
          "text": [
            "INFO:werkzeug:127.0.0.1 - - [06/Oct/2024 15:54:28] \"POST /predict HTTP/1.1\" 200 -\n"
          ]
        },
        {
          "output_type": "stream",
          "name": "stdout",
          "text": [
            "\u001b[1m1/1\u001b[0m \u001b[32m━━━━━━━━━━━━━━━━━━━━\u001b[0m\u001b[37m\u001b[0m \u001b[1m0s\u001b[0m 52ms/step\n"
          ]
        },
        {
          "output_type": "stream",
          "name": "stderr",
          "text": [
            "INFO:werkzeug:127.0.0.1 - - [06/Oct/2024 15:55:00] \"POST /predict HTTP/1.1\" 200 -\n"
          ]
        },
        {
          "output_type": "stream",
          "name": "stdout",
          "text": [
            "\u001b[1m1/1\u001b[0m \u001b[32m━━━━━━━━━━━━━━━━━━━━\u001b[0m\u001b[37m\u001b[0m \u001b[1m0s\u001b[0m 69ms/step\n"
          ]
        },
        {
          "output_type": "stream",
          "name": "stderr",
          "text": [
            "INFO:werkzeug:127.0.0.1 - - [06/Oct/2024 15:56:29] \"POST /predict HTTP/1.1\" 200 -\n",
            "INFO:werkzeug:127.0.0.1 - - [06/Oct/2024 15:58:14] \"GET / HTTP/1.1\" 200 -\n"
          ]
        },
        {
          "output_type": "stream",
          "name": "stdout",
          "text": [
            "\u001b[1m1/1\u001b[0m \u001b[32m━━━━━━━━━━━━━━━━━━━━\u001b[0m\u001b[37m\u001b[0m \u001b[1m0s\u001b[0m 93ms/step\n"
          ]
        },
        {
          "output_type": "stream",
          "name": "stderr",
          "text": [
            "INFO:werkzeug:127.0.0.1 - - [06/Oct/2024 15:58:20] \"POST /predict HTTP/1.1\" 200 -\n"
          ]
        }
      ]
    }
  ],
  "metadata": {
    "colab": {
      "provenance": [],
      "toc_visible": true
    },
    "kernelspec": {
      "display_name": "Python 3",
      "language": "python",
      "name": "python3"
    },
    "language_info": {
      "codemirror_mode": {
        "name": "ipython",
        "version": 3
      },
      "file_extension": ".py",
      "mimetype": "text/x-python",
      "name": "python",
      "nbconvert_exporter": "python",
      "pygments_lexer": "ipython3",
      "version": "3.7.6"
    }
  },
  "nbformat": 4,
  "nbformat_minor": 0
}